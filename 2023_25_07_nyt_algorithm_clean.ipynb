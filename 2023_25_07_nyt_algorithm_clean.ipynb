{
 "cells": [
  {
   "cell_type": "markdown",
   "id": "fca95efd",
   "metadata": {},
   "source": [
    "### NYT Digits Puzzle - Algorithm\n",
    "\n",
    "**(May 23, 2023)**\n",
    "\n",
    "**Problem Statement:** Can you come up with some code that finds the solution to the NYT digits puzzle given six numbers and a target number? "
   ]
  },
  {
   "cell_type": "code",
   "execution_count": 1,
   "id": "3bddb1f0",
   "metadata": {},
   "outputs": [],
   "source": [
    "from itertools import combinations\n",
    "from math import comb"
   ]
  },
  {
   "cell_type": "code",
   "execution_count": 2,
   "id": "2a4deb48",
   "metadata": {},
   "outputs": [],
   "source": [
    "# generates all manipulation combinations of a dictionary of elements\n",
    "def generator_combos(start_dict: dict):\n",
    "    \n",
    "    # defining dict_len to determine pathing\n",
    "    dict_len = len(start_dict)\n",
    "\n",
    "    # defining output dictionary\n",
    "    output_dict = dict()\n",
    "    \n",
    "    count = 0    \n",
    "    \n",
    "    # output the dictionary if there is just one element\n",
    "    if dict_len==1:\n",
    "        output_dict = start_dict\n",
    "    \n",
    "    # output all ways to add, subtract, multiply, or divide two numbers\n",
    "    elif dict_len==2:\n",
    "        # sort to ensure division is >= 1 and subtraction is >= 0\n",
    "        sorted_vals = dict(sorted(start_dict.items(), key=lambda item: item[1], reverse=True))\n",
    "        \n",
    "        # list of names and numbers\n",
    "        name_list, num_list = list(sorted_vals.keys()), list(sorted_vals.values())    \n",
    "\n",
    "        # getting elements and there names\n",
    "        elem1, elem2 = num_list \n",
    "        name1, name2 = name_list   \n",
    "\n",
    "        # set of all possible operations with keys for operation name\n",
    "        # Note: digits game doesn't allow fractions or negative numbers\n",
    "        # so we set the result to a large \n",
    "        output_dict = {'('+name1+'+'+name2+')':elem1 + elem2, \n",
    "                      '('+name1+'*'+name2+')':elem1 * elem2, \n",
    "                      '('+name1+'/'+name2+')': int(elem1/elem2) if elem1%elem2==0 else 1/3001, \n",
    "                      '('+name1+'-'+name2+')': elem1- elem2 if elem1- elem2>0 else 1/3001 }   \n",
    "\n",
    "    # for dict_len >=3, recursively build sub solutions\n",
    "    else: \n",
    "        \n",
    "        # only go up to half the number of elements in dict\n",
    "        # to prevent double counting (e.g., n choose k = n choose n-k)\n",
    "        for ix in range(1, dict_len//2+1):\n",
    "\n",
    "            # number of ways to select 'ix' elements from 'dict_len' total\n",
    "            num_comb = comb(dict_len, ix)\n",
    "            \n",
    "            # limiting number of combinations considered\n",
    "            # when there is an even split; this prevents double counting\n",
    "            if ix == dict_len/2:\n",
    "                lim = num_comb//2\n",
    "            else:\n",
    "                lim = num_comb\n",
    "\n",
    "            # generating combinations of elements\n",
    "            # '[:lim]' prevents double consideration of combos\n",
    "            for elem in list(combinations(start_dict.keys(), ix))[:lim]:\n",
    "                copy_dict  = start_dict.copy() \n",
    "                comp_copy_dict = dict() # complement of copy_dict\n",
    "                for j in range(ix):\n",
    "                    del copy_dict[elem[j]]\n",
    "                    comp_copy_dict[elem[j]] = start_dict[elem[j]]\n",
    "                \n",
    "                # generating set of possible operations for elements\n",
    "                for key1, value1 in generator_combos(copy_dict).items():\n",
    "                    for key2, value2 in generator_combos(comp_copy_dict).items():\n",
    "                        new_dict = {key1: value1, key2: value2 }\n",
    "                        result_dict = generator_combos(new_dict)\n",
    "                        output_dict.update(result_dict) \n",
    "                        count += len(result_dict)\n",
    "                        \n",
    "\n",
    "    return output_dict"
   ]
  },
  {
   "cell_type": "code",
   "execution_count": 3,
   "id": "ff86a09f",
   "metadata": {
    "scrolled": true
   },
   "outputs": [],
   "source": [
    "# generator_combos({'1':1, '2': 2, '3': 3, '4': 4, '5':5 })"
   ]
  },
  {
   "cell_type": "code",
   "execution_count": 4,
   "id": "67ff66bf",
   "metadata": {
    "scrolled": false
   },
   "outputs": [],
   "source": [
    "# for ell in range(1,7):\n",
    "#     dict_ = {str(num):num for num in range(1,ell+1)}\n",
    "#     all_combos = generator_combos(dict_)\n",
    "#     print(f'Number of combinations with {ell} numbers:', len(all_combos))"
   ]
  },
  {
   "cell_type": "code",
   "execution_count": 5,
   "id": "da5730ac",
   "metadata": {},
   "outputs": [],
   "source": [
    "## function scaffold\n",
    "def nyt_digits_solver(num_list: list, target: int, soln_num=None):\n",
    "    \n",
    "    # generating full list of combinations of all sizes for the input numbers\n",
    "    soln_set_dict = dict()\n",
    "    for i in range(2, len(num_list) + 1):  \n",
    "        for combo in list(combinations(num_list, i)):\n",
    "            dict_conv = {str(num):num for num in list(combo)}\n",
    "            temp_soln_dict = generator_combos(dict_conv)\n",
    "            soln_set_dict.update(temp_soln_dict)\n",
    "    \n",
    "    # enumerating all solutions (i.e., combinations that result in target)\n",
    "    solns = [key for key in soln_set_dict if soln_set_dict[key]==target]\n",
    "    \n",
    "    # find the `soln_num` shortest solutions (by char count)\n",
    "    if soln_num:\n",
    "        solns_copy = list()\n",
    "        for k in sorted(solns, key=len)[:soln_num]:\n",
    "            solns_copy.append(k)\n",
    "        solns = solns_copy\n",
    "\n",
    "    return solns"
   ]
  },
  {
   "cell_type": "markdown",
   "id": "df3c5b6a",
   "metadata": {},
   "source": [
    "### Examples"
   ]
  },
  {
   "cell_type": "code",
   "execution_count": 6,
   "id": "d56bda01",
   "metadata": {},
   "outputs": [],
   "source": [
    "# len(nyt_digits_solver(num_list = [3, 5, 9, 13, 20, 23], target=441))"
   ]
  },
  {
   "cell_type": "code",
   "execution_count": 8,
   "id": "42055d4d",
   "metadata": {},
   "outputs": [
    {
     "data": {
      "text/plain": [
       "['(((19*(25-23))*11)-5)',\n",
       " '(((11*(25-23))*19)-5)',\n",
       " '(((19*11)*(25-23))-5)',\n",
       " '(((23*(11+5))+25)+20)',\n",
       " '(((23*(11+5))+20)+25)',\n",
       " '((23*(11+5))+(25+20))',\n",
       " '(((20+(25-23))*19)-5)',\n",
       " '((((25+20)-23)*19)-5)',\n",
       " '(((25-(23-20))*19)-5)',\n",
       " '(((25+23)*(20-11))-19)']"
      ]
     },
     "execution_count": 8,
     "metadata": {},
     "output_type": "execute_result"
    }
   ],
   "source": [
    "nyt_digits_solver(num_list = [5, 11, 19, 20, 23, 25], \n",
    "                  target=413, \n",
    "                  soln_num=10)"
   ]
  },
  {
   "cell_type": "code",
   "execution_count": null,
   "id": "4d8dfc0a",
   "metadata": {},
   "outputs": [],
   "source": []
  },
  {
   "cell_type": "code",
   "execution_count": null,
   "id": "c1635f4c",
   "metadata": {},
   "outputs": [],
   "source": []
  },
  {
   "cell_type": "markdown",
   "id": "b95f15d1",
   "metadata": {},
   "source": [
    "### NYT Digits - Chat GPT"
   ]
  },
  {
   "cell_type": "code",
   "execution_count": 17,
   "id": "1ef138f9",
   "metadata": {},
   "outputs": [
    {
     "ename": "SyntaxError",
     "evalue": "invalid syntax (<string>, line 1)",
     "output_type": "error",
     "traceback": [
      "Traceback \u001b[0;36m(most recent call last)\u001b[0m:\n",
      "\u001b[0m  File \u001b[1;32m~/.pyenv/versions/3.10.10/lib/python3.10/site-packages/IPython/core/interactiveshell.py:3508\u001b[0m in \u001b[1;35mrun_code\u001b[0m\n    exec(code_obj, self.user_global_ns, self.user_ns)\u001b[0m\n",
      "\u001b[0m  Cell \u001b[1;32mIn[17], line 40\u001b[0m\n    result = find_operations(num_list, target)\u001b[0m\n",
      "\u001b[0m  Cell \u001b[1;32mIn[17], line 33\u001b[0m in \u001b[1;35mfind_operations\u001b[0m\n    operations = backtrack(0, \"\")\u001b[0m\n",
      "\u001b[0m  Cell \u001b[1;32mIn[17], line 26\u001b[0m in \u001b[1;35mbacktrack\u001b[0m\n    result = backtrack(idx + 1, expression)\u001b[0m\n",
      "\u001b[0m  Cell \u001b[1;32mIn[17], line 26\u001b[0m in \u001b[1;35mbacktrack\u001b[0m\n    result = backtrack(idx + 1, expression)\u001b[0m\n",
      "\u001b[0m  Cell \u001b[1;32mIn[17], line 26\u001b[0m in \u001b[1;35mbacktrack\u001b[0m\n    result = backtrack(idx + 1, expression)\u001b[0m\n",
      "\u001b[0m  Cell \u001b[1;32mIn[17], line 26\u001b[0m in \u001b[1;35mbacktrack\u001b[0m\n    result = backtrack(idx + 1, expression)\u001b[0m\n",
      "\u001b[0m  Cell \u001b[1;32mIn[17], line 26\u001b[0m in \u001b[1;35mbacktrack\u001b[0m\n    result = backtrack(idx + 1, expression)\u001b[0m\n",
      "\u001b[0m  Cell \u001b[1;32mIn[17], line 26\u001b[0m in \u001b[1;35mbacktrack\u001b[0m\n    result = backtrack(idx + 1, expression)\u001b[0m\n",
      "\u001b[0m  Cell \u001b[1;32mIn[17], line 10\u001b[0m in \u001b[1;35mbacktrack\u001b[0m\n    result = evaluate_expression(current_expression)\u001b[0m\n",
      "\u001b[0;36m  Cell \u001b[0;32mIn[17], line 4\u001b[0;36m in \u001b[0;35mevaluate_expression\u001b[0;36m\n\u001b[0;31m    return eval(expression)\u001b[0;36m\n",
      "\u001b[0;36m  File \u001b[0;32m<string>:1\u001b[0;36m\u001b[0m\n\u001b[0;31m    *5+11+19+20+23+25\u001b[0m\n\u001b[0m    ^\u001b[0m\n\u001b[0;31mSyntaxError\u001b[0m\u001b[0;31m:\u001b[0m invalid syntax\n"
     ]
    }
   ],
   "source": [
    "def find_operations(num_list, target):\n",
    "    def evaluate_expression(expression):\n",
    "        try:\n",
    "            return eval(expression)\n",
    "        except (ZeroDivisionError, TypeError):\n",
    "            return None\n",
    "\n",
    "    def backtrack(idx, current_expression):\n",
    "        if idx == len(num_list):\n",
    "            result = evaluate_expression(current_expression)\n",
    "            if result == target:\n",
    "                return current_expression\n",
    "            return None\n",
    "\n",
    "        number = str(num_list[idx])\n",
    "\n",
    "        # Try all four possible operations with the current number\n",
    "        expressions = [\n",
    "            current_expression + \"+\" + number,\n",
    "            current_expression + \"-\" + number,\n",
    "            current_expression + \"*\" + number,\n",
    "            current_expression + \"/\" + number,\n",
    "        ]\n",
    "\n",
    "        for expression in expressions:\n",
    "            result = backtrack(idx + 1, expression)\n",
    "            if result:\n",
    "                return result\n",
    "\n",
    "        return None\n",
    "\n",
    "    # Start the backtracking algorithm with an empty expression and index 0\n",
    "    operations = backtrack(0, \"\")\n",
    "\n",
    "    return operations\n",
    "\n",
    "# Example usage:\n",
    "num_list = [5, 11, 19, 20, 23, 25]\n",
    "target=413\n",
    "result = find_operations(num_list, target)\n",
    "print(result)\n"
   ]
  },
  {
   "cell_type": "code",
   "execution_count": null,
   "id": "2270fd9b",
   "metadata": {},
   "outputs": [],
   "source": []
  }
 ],
 "metadata": {
  "kernelspec": {
   "display_name": "Python 3 (ipykernel)",
   "language": "python",
   "name": "python3"
  },
  "language_info": {
   "codemirror_mode": {
    "name": "ipython",
    "version": 3
   },
   "file_extension": ".py",
   "mimetype": "text/x-python",
   "name": "python",
   "nbconvert_exporter": "python",
   "pygments_lexer": "ipython3",
   "version": "3.10.10"
  }
 },
 "nbformat": 4,
 "nbformat_minor": 5
}
