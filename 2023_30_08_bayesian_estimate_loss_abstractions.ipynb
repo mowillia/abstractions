{
 "cells": [
  {
   "cell_type": "code",
   "execution_count": 34,
   "id": "eb314aa9",
   "metadata": {},
   "outputs": [],
   "source": [
    "from matplotlib import pyplot as plt\n",
    "import numpy as np\n",
    "import math\n",
    "import pandas as pd\n",
    "import time\n",
    "\n",
    "from sklearn.datasets import load_iris\n",
    "\n",
    "from sklearn.linear_model import LogisticRegression\n",
    "from sklearn.neighbors import KNeighborsClassifier\n",
    "from sklearn.tree import DecisionTreeClassifier\n",
    "from sklearn.naive_bayes import GaussianNB\n",
    "\n",
    "from sklearn.preprocessing import OneHotEncoder\n",
    "from sklearn.metrics import balanced_accuracy_score, accuracy_score\n",
    "from sklearn.decomposition import TruncatedSVD\n",
    "from sklearn.feature_extraction.text import TfidfVectorizer\n",
    "from sklearn.model_selection import train_test_split\n",
    "\n",
    "from scipy import sparse\n",
    "from scipy.sparse import issparse\n",
    "from scipy.stats import gaussian_kde\n",
    "import copy"
   ]
  },
  {
   "cell_type": "markdown",
   "id": "8641bc3e",
   "metadata": {},
   "source": [
    "### Kernel Density Estimation "
   ]
  },
  {
   "cell_type": "code",
   "execution_count": 35,
   "id": "96295760",
   "metadata": {},
   "outputs": [],
   "source": [
    "class KDE:\n",
    "    \n",
    "    def __init__(self, data_points, width=None):\n",
    "\n",
    "        \"\"\"\n",
    "        Kernel Density Estimation (KDE) class for estimating probability density functions.\n",
    "\n",
    "        Args:\n",
    "            data_points (numpy.ndarray): An array of data points for which to estimate the density.\n",
    "            width (float): The width of the kernel function. If not provided, it is determined using\n",
    "                          Scott's factor for multi-dimensional data.\n",
    "\n",
    "        Attributes:\n",
    "            data_points (numpy.ndarray): The input data points for density estimation.\n",
    "            num_points (int): The number of data points.\n",
    "            dim (int): The dimensionality of the data points.\n",
    "            width (float): The width of the kernel function.\n",
    "\n",
    "        Methods:\n",
    "            __call__(x):\n",
    "                Estimate the probability density at the given point(s).\n",
    "\n",
    "        Usage:\n",
    "        # Initialize KDE with data_points and an optional width\n",
    "        kde = KDE(data_points, width)\n",
    "\n",
    "        # Estimate the density at a specific point(s)\n",
    "        density = kde(x)\n",
    "\n",
    "        For more information on KDE and usage, refer to:\n",
    "        https://en.wikipedia.org/wiki/Kernel_density_estimation\n",
    "        \n",
    "        \n",
    "        *This doc-string was written by ChatGPT on September 19th, 2023*\n",
    "        \"\"\"        \n",
    "        \n",
    "        if len(data_points.shape)==1:\n",
    "            self.data_points = data_points.reshape(-1,1)\n",
    "        else:\n",
    "            self.data_points = data_points\n",
    "        self.num_points, self.dim = self.data_points.shape\n",
    "        \n",
    "        if width is None: # scott's factor; https://docs.scipy.org/doc/scipy/reference/generated/scipy.stats.gaussian_kde.html\n",
    "            width = (self.num_points)**(-1/(self.dim+4))\n",
    "        self.width = width        \n",
    "    \n",
    "    def __call__(self, x):\n",
    "        \n",
    "        \"\"\"\n",
    "        Estimate the probability density at the given point(s).\n",
    "\n",
    "        Args:\n",
    "            x (float, int, list, numpy.ndarray): The point(s) at which to estimate the density.\n",
    "\n",
    "        Returns:\n",
    "            float: The estimated probability density at the given point(s).\n",
    "            \n",
    "        \n",
    "        *This doc-string was written by ChatGPT on September 19th, 2023* \n",
    "        \"\"\"        \n",
    "        \n",
    "        # converting float to matrix\n",
    "        if isinstance(x, float) or isinstance(x, int):\n",
    "            x = np.array([[x]])\n",
    "            assert self.dim == 1\n",
    "            \n",
    "        elif isinstance(x, list):\n",
    "            x = np.array([x])\n",
    "            assert self.dim == 1\n",
    "        \n",
    "        if len(x.shape)==1:\n",
    "            x = x.reshape(1,-1)\n",
    "                    \n",
    "        # ensuring same shape between input point and data values\n",
    "        assert x.shape[1] == self.data_points[:,:1].shape[1]\n",
    "        \n",
    "        # computing density estimate\n",
    "        rho_res = np.sum(np.exp(-(x-self.data_points)**2/self.width**2))/(np.sqrt(2*np.pi*self.width**2)**self.dim)/self.num_points\n",
    "        \n",
    "        return rho_res"
   ]
  },
  {
   "cell_type": "code",
   "execution_count": 36,
   "id": "6ffc8327",
   "metadata": {},
   "outputs": [],
   "source": [
    "# Values for KDE\n",
    "xvals = np.random.lognormal(mean = 4.0, sigma = 1.0, size = 1000)\n",
    "xrange = np.linspace(0,300,1000)\n",
    "KDE_func = KDE(data_points=xvals, width =30.0)\n",
    "kde_vals = np.array([KDE_func(x) for x in xrange])"
   ]
  },
  {
   "cell_type": "code",
   "execution_count": 37,
   "id": "24b0a245",
   "metadata": {},
   "outputs": [
    {
     "data": {
      "image/png": "[encoded data removed]",
      "text/plain": [
       "<Figure size 432x288 with 1 Axes>"
      ]
     },
     "metadata": {
      "needs_background": "light"
     },
     "output_type": "display_data"
    }
   ],
   "source": [
    "# Histogram plot\n",
    "plt.hist(xvals, bins = 400, density=True)\n",
    "plt.plot(xrange, kde_vals, linewidth = 3.0)\n",
    "plt.xlim([-1,300])\n",
    "plt.grid(alpha = 0.5)\n",
    "plt.show()"
   ]
  },
  {
   "cell_type": "markdown",
   "id": "811fc2e4",
   "metadata": {},
   "source": [
    "### Bayesian Estimate of Learning Potential "
   ]
  },
  {
   "cell_type": "code",
   "execution_count": 85,
   "id": "c494c495",
   "metadata": {},
   "outputs": [],
   "source": [
    "from matplotlib import pyplot as plt\n",
    "import numpy as np\n",
    "import pandas as pd\n",
    "\n",
    "from sklearn.decomposition import TruncatedSVD\n",
    "from scipy.sparse import issparse\n",
    "        \n",
    "from sklearn.preprocessing import OneHotEncoder\n",
    "from scipy.stats import gaussian_kde\n",
    "\n",
    "\n",
    "def bayesian_loss_estimate_KDE(df=None, X=None, y=None, class_label=None, width = 1.0):\n",
    "    \n",
    "    \"\"\"\n",
    "    Computes the base_loss, minimum loss, learning potential based on probabilistic analysis.\n",
    "\n",
    "    Args:\n",
    "        data_frame (pandas.DataFrame): The input DataFrame containing features and class labels.\n",
    "        class_label (str): The name of the column in the DataFrame containing class labels.\n",
    "\n",
    "    Returns:\n",
    "        tuple: A tuple containing the following values:\n",
    "            - L_0 (float): Base cross-entropy computed from class label distribution.\n",
    "            - L (float): Data-inferred cross-entropy loss based on feature distributions.\n",
    "            - Q (float): Learning potential, indicating the potential improvement in loss.\n",
    "\n",
    "    This function performs probabilistic analysis to compute the minimum loss and learning potential\n",
    "    based on Gaussian KDE (Kernel Density Estimation) of sampled features.\n",
    "\n",
    "    Steps:\n",
    "    1. One-hot encodes the class labels and defines base probabilities.\n",
    "    2. Obtains samples based on class labels and computes Gaussian KDE for each class.\n",
    "    3. Defines base feature probability function.\n",
    "    4. Computes the matrix of probability ratios for each data point and class.\n",
    "    5. Calculates base cross-entropy (L_0) and data-inferred loss (L).\n",
    "    6. Computes learning potential (Q) as the improvement in loss.\n",
    "\n",
    "    Example:\n",
    "        L_0, L, Q = minimum_loss(data_frame, 'class_label')\n",
    "\n",
    "    Note:\n",
    "        This function assumes that the input DataFrame contains both features and class labels,\n",
    "        and the 'class_label' column is used as the target class label for analysis.\n",
    "        \n",
    "        *This doc-string was written by ChatGPT on August 31st, 2023*\n",
    "    \"\"\"    \n",
    "    \n",
    "    if (df is not None) and (class_label is not None) and (X is None and y is None):   \n",
    "        # feature and class definitions and one-hot encoding\n",
    "        X = df.drop(columns=[class_label]).values\n",
    "        y = list(df[class_label])\n",
    "        y_matrix = np.array(pd.get_dummies(df[class_label]))  \n",
    "        \n",
    "    elif (X is not None) and (y is not None):\n",
    "        if issparse(X):\n",
    "            svd = TruncatedSVD(n_components=10, random_state=42)\n",
    "            X = svd.fit_transform(X) \n",
    "            print('Matrix is sparse. Converting to 10-dim dense vector with Truncated SVD. Percentage of variance explained by new representation is',np.sum(svd.explained_variance_ratio_))\n",
    "            \n",
    "        y = y.reshape(-1, 1) # reshape the array to a column vector (required by OneHotEncoder)\n",
    "        one_hot_encoded = OneHotEncoder().fit_transform(y) # fit and transform the data to one-hot encoding\n",
    "        y_matrix = one_hot_encoded.toarray() # convert the one-hot encoded sparse matrix to an array\n",
    "        \n",
    "    else:\n",
    "        print('Missing arguments! Must provide data frame AND class label OR X AND y values')\n",
    "        return\n",
    "\n",
    "    # getting base probabilities \n",
    "    p_alpha = np.sum(y_matrix, axis = 0)/len(y_matrix)\n",
    "\n",
    "    # getting samples based on classes\n",
    "    num_classes = y_matrix.shape[1]\n",
    "    sampled_features_dict = dict()\n",
    "    for j in range(num_classes):\n",
    "        sampled_features_dict[j] = np.array([X[k,:].tolist() for k in range(len(y_matrix)) if y_matrix[k,j] == True])\n",
    "\n",
    "    # gaussian kde of sampled features\n",
    "    rho_kde_dict = dict()\n",
    "    for j in range(num_classes):\n",
    "        rho_kde_dict[j] = gaussian_kde(sampled_features_dict[j].T)   \n",
    "\n",
    "    # defining base feature probability\n",
    "    prob_x = lambda x: np.sum([p_alpha[j]*rho_kde_dict[j](x) for j in range(num_classes)])  \n",
    "\n",
    "    # getting matrix of probability ratios \n",
    "    prob_ratios = np.array([[rho_kde_dict[j](X[i])[0]/prob_x(X[i]) for j in range(num_classes)] for i in range(len(y_matrix))])\n",
    "\n",
    "    # eliminate possibility of divide by zero errors\n",
    "    prob_ratios = prob_ratios + 1e-10\n",
    "    \n",
    "    # base cross entropy\n",
    "    L_0 = -np.sum(p_alpha*np.log(p_alpha))\n",
    "\n",
    "    # computing data inferred loss\n",
    "    L = L_0 -np.sum((y_matrix*np.log(prob_ratios)))/len(y_matrix)\n",
    "\n",
    "    # computing learning potential\n",
    "    Q = (L_0-L)/L_0\n",
    "\n",
    "    return L_0, L, Q"
   ]
  },
  {
   "cell_type": "markdown",
   "id": "5383735b",
   "metadata": {},
   "source": [
    "## Bayesian Estimate of Minimum Loss\n",
    "\n",
    "**(August 30, 2023)**\n",
    "\n",
    "Say that we have a data set ${\\cal D}$ consisting of points in feature space $\\textbf{x}_i \\in \\mathbb{R}^{M}$ and their corresponding classes $y_i\\in U$ where $U$ is the set of all classes. Another way to write the data set is as ${\\cal D} = \\{\\{\\textbf{x}_i, y_i\\}; i=1, \\ldots, N\\}$. We will one-hot-encode these labels so that $y_{i, \\alpha} \\in \\{0, 1\\}$ and $\\alpha = 1, \\cdots, C$ for $C$ classes. The principal task of machine learning is to generate a function $ \\hat{p}(\\alpha|\\textbf{x})$ that tells us the probability that a data point with feature representation $\\textbf{x}$ has class $\\alpha$. In most ML manifestations of this problem, the goal is to minimize the function\n",
    "\\begin{equation}\n",
    "{\\cal L} = - \\frac{1}{N}\\sum_{\\alpha=1}^C\\sum_{i=1}^N y_{ i, \\alpha} \\ln \\hat{p}(\\alpha|\\textbf{x}_i). \n",
    "\\label{eq:cross_ent}\n",
    "\\end{equation}\n",
    "Can we use a Bayesian argument to estimate what the minimum value of this loss can be when we train an ML model?\n",
    "\n",
    "**Solution:**\n",
    "\n",
    "We find\n",
    "\n",
    "\\begin{equation}\n",
    "{\\cal L} = -\\sum_{\\alpha=1}^C \\hat{p}(\\alpha)\\ln \\hat{p}(\\alpha) - \\frac{1}{N} \\sum_{\\alpha=1}^C \\sum_{i=1}^N y_{i, \\alpha} \\ln \\left[\\frac{\\hat{\\rho}_{\\text{KDE}}(\\textbf{x}_i|\\alpha)}{\\sum_{\\alpha'=1}^C\\hat{\\rho}_{\\text{KDE}}(\\textbf{x}_i|\\alpha') \\hat{p}(\\alpha') }\\right].\n",
    "\\end{equation} \n",
    "\n",
    "The first term above represents the loss we would expect from just predicting class probabilities from a frequency count of the classes in the data; we denote this term ${\\cal L}_0$. If our model has managed to learn anything about class-assignment from the data, then we would expect the loss to be lower than ${\\cal L}_0$.\n",
    "\n",
    "With the above expected loss, we can define how much we expect to learn from from a given data set. We define the \\textit{learning quotient} ${\\cal Q}$ as \n",
    "\n",
    "\\begin{equation}\n",
    "{\\cal Q} \\equiv \\frac{{\\cal L}_0-{\\cal L}}{{\\cal L}_0} = \\frac{1}{N{\\cal L}_0} \\sum_{\\alpha=1}^C \\sum_{i=1}^N y_{i, \\alpha} \\ln \\left[\\frac{\\hat{\\rho}_{\\text{KDE}}(\\textbf{x}_i|\\alpha)}{\\sum_{\\alpha'=1}^C\\hat{\\rho}_{\\text{KDE}}(\\textbf{x}_i|\\alpha') \\hat{p}(\\alpha') }\\right]\n",
    "\\end{equation}\n",
    "\n",
    "representing the fractional decrease in loss we expect from the naive class-frequency-based estimate of loss. Given that ${\\cal L}\\geq0$ and ${\\cal L} \\leq {\\cal L}_0$, we find that ${\\cal Q} \\in [0, 1]$. The quantity ${\\cal Q}$ answers the following question.\n",
    "\n",
    "> Given the data set ${\\cal D}= \\{\\{\\textbf{x}_i, y_i\\}; i=1, \\ldots, N\\}$, how predictive is feature $\\textbf{x}$ of class $\\alpha$? *(The value $0$ corresponds to not at all predictive and $1$ corresponds to maximally predictive.)* \n",
    "\n"
   ]
  },
  {
   "cell_type": "markdown",
   "id": "2f667e16",
   "metadata": {},
   "source": [
    "### Single-Variable Data"
   ]
  },
  {
   "cell_type": "code",
   "execution_count": 86,
   "id": "d8a1d6c6",
   "metadata": {},
   "outputs": [],
   "source": [
    "# parameter choices\n",
    "mu_R, sigma_R = 40, 15\n",
    "mu_C, sigma_C = 30, 10\n",
    "N_C, N_R = 600, 1200\n",
    "\n",
    "# creating the churned and renewed random points\n",
    "x1 =  np.random.randn(N_R)\n",
    "x2 =  np.random.randn(N_C)\n",
    "x_R = x1*sigma_R + mu_R\n",
    "x_C = x2*sigma_C + mu_C\n",
    "\n",
    "# #\n",
    "x_C = np.round(x_C)*5-5\n",
    "x_R = np.round(x_R)*5"
   ]
  },
  {
   "cell_type": "code",
   "execution_count": 87,
   "id": "c17ab5fe",
   "metadata": {},
   "outputs": [
    {
     "data": {
      "image/png": "[encoded data removed]",
      "text/plain": [
       "<Figure size 432x288 with 1 Axes>"
      ]
     },
     "metadata": {
      "needs_background": "light"
     },
     "output_type": "display_data"
    }
   ],
   "source": [
    "ax = plt.subplot(111)\n",
    "\n",
    "# Hide the right and top spines\n",
    "ax.spines[['right', 'top']].set_visible(False)\n",
    "\n",
    "plt.hist(x_R, bins = 10, alpha = 0.75, label='Renewed')\n",
    "plt.hist(x_C, bins = 10, alpha = 0.75, label='Churned')\n",
    "plt.grid(alpha = 0.5)\n",
    "plt.xlabel('Activity Scores', fontsize = 15)\n",
    "plt.ylabel('Customer Count', fontsize = 15)\n",
    "plt.legend(loc = 'best', fontsize = 10)\n",
    "plt.show()"
   ]
  },
  {
   "cell_type": "code",
   "execution_count": 88,
   "id": "397d9791",
   "metadata": {},
   "outputs": [],
   "source": [
    "# creating data frame for results\n",
    "engagement_scores = x_R.tolist() + x_C.tolist()\n",
    "churn_statuses = ['Renewed']*len(x_R) + ['Churned']*len(x_C)\n",
    "data_dict = {'activity_score': engagement_scores,\n",
    "                                   'status': churn_statuses}\n",
    "# define dataframe and shuffle rows\n",
    "df = pd.DataFrame.from_dict(data = data_dict)\n",
    "df = df.sample(frac=1).reset_index(drop=True)"
   ]
  },
  {
   "cell_type": "code",
   "execution_count": 89,
   "id": "88ce4013",
   "metadata": {},
   "outputs": [
    {
     "data": {
      "text/html": [
       "<div>\n",
       "<style scoped>\n",
       "    .dataframe tbody tr th:only-of-type {\n",
       "        vertical-align: middle;\n",
       "    }\n",
       "\n",
       "    .dataframe tbody tr th {\n",
       "        vertical-align: top;\n",
       "    }\n",
       "\n",
       "    .dataframe thead th {\n",
       "        text-align: right;\n",
       "    }\n",
       "</style>\n",
       "<table border=\"1\" class=\"dataframe\">\n",
       "  <thead>\n",
       "    <tr style=\"text-align: right;\">\n",
       "      <th></th>\n",
       "      <th>activity_score</th>\n",
       "      <th>status</th>\n",
       "    </tr>\n",
       "  </thead>\n",
       "  <tbody>\n",
       "    <tr>\n",
       "      <th>0</th>\n",
       "      <td>170.0</td>\n",
       "      <td>Churned</td>\n",
       "    </tr>\n",
       "    <tr>\n",
       "      <th>1</th>\n",
       "      <td>245.0</td>\n",
       "      <td>Renewed</td>\n",
       "    </tr>\n",
       "    <tr>\n",
       "      <th>2</th>\n",
       "      <td>310.0</td>\n",
       "      <td>Renewed</td>\n",
       "    </tr>\n",
       "    <tr>\n",
       "      <th>3</th>\n",
       "      <td>155.0</td>\n",
       "      <td>Churned</td>\n",
       "    </tr>\n",
       "    <tr>\n",
       "      <th>4</th>\n",
       "      <td>130.0</td>\n",
       "      <td>Churned</td>\n",
       "    </tr>\n",
       "    <tr>\n",
       "      <th>5</th>\n",
       "      <td>150.0</td>\n",
       "      <td>Churned</td>\n",
       "    </tr>\n",
       "    <tr>\n",
       "      <th>6</th>\n",
       "      <td>130.0</td>\n",
       "      <td>Renewed</td>\n",
       "    </tr>\n",
       "  </tbody>\n",
       "</table>\n",
       "</div>"
      ],
      "text/plain": [
       "   activity_score   status\n",
       "0           170.0  Churned\n",
       "1           245.0  Renewed\n",
       "2           310.0  Renewed\n",
       "3           155.0  Churned\n",
       "4           130.0  Churned\n",
       "5           150.0  Churned\n",
       "6           130.0  Renewed"
      ]
     },
     "execution_count": 89,
     "metadata": {},
     "output_type": "execute_result"
    }
   ],
   "source": [
    "df.head(7)"
   ]
  },
  {
   "cell_type": "code",
   "execution_count": 90,
   "id": "5cb85ab8",
   "metadata": {},
   "outputs": [],
   "source": [
    "# feature and class definitions and one-hot encoding\n",
    "X = np.array(df['activity_score']).reshape(-1, 1)\n",
    "y = np.array(list(df['status']))\n",
    "y_matrix = np.array(pd.get_dummies(df['status']))"
   ]
  },
  {
   "cell_type": "markdown",
   "id": "c4abebde",
   "metadata": {},
   "source": [
    "### Theoretical Estimate of Minimum Loss"
   ]
  },
  {
   "cell_type": "markdown",
   "id": "2089475a",
   "metadata": {},
   "source": [
    "\\begin{equation}\n",
    "{\\cal L} = -\\sum_{\\alpha=1}^C \\hat{p}(\\alpha)\\ln \\hat{p}(\\alpha) - \\frac{1}{N} \\sum_{\\alpha=1}^C \\sum_{i=1}^N y_{i, \\alpha} \\ln \\left[\\frac{\\hat{\\rho}_{\\text{KDE}}(\\textbf{x}_i|\\alpha)}{\\sum_{\\alpha'=1}^C\\hat{\\rho}_{\\text{KDE}}(\\textbf{x}_i|\\alpha') \\hat{p}(\\alpha') }\\right].\n",
    "\\end{equation} \n",
    "\n",
    "The first term above represents the loss we would expect from just predicting class probabilities from a frequency count of the classes in the data; we denote this term ${\\cal L}_0$. If our model has managed to learn anything about class-assignment from the data, then we would expect the loss to be lower than ${\\cal L}_0$.\n",
    "\n",
    "With the above expected loss, we can define how much we expect to learn from from a given data set. We define the \\textit{learning quotient} ${\\cal Q}$ as \n",
    "\n",
    "\\begin{equation}\n",
    "{\\cal Q} \\equiv \\frac{{\\cal L}_0-{\\cal L}}{{\\cal L}_0} = \\frac{1}{N{\\cal L}_0} \\sum_{\\alpha=1}^C \\sum_{i=1}^N y_{i, \\alpha} \\ln \\left[\\frac{\\hat{\\rho}_{\\text{KDE}}(\\textbf{x}_i|\\alpha)}{\\sum_{\\alpha'=1}^C\\hat{\\rho}_{\\text{KDE}}(\\textbf{x}_i|\\alpha') \\hat{p}(\\alpha') }\\right]\n",
    "\\end{equation}"
   ]
  },
  {
   "cell_type": "code",
   "execution_count": 91,
   "id": "047628d3",
   "metadata": {},
   "outputs": [
    {
     "name": "stdout",
     "output_type": "stream",
     "text": [
      "Naive Maximum Loss: 0.6365141682948128\n",
      "Potential Minimum Loss: 0.5413713257232045\n",
      "Learning Potential from Features: 0.14947482288806058\n"
     ]
    }
   ],
   "source": [
    "L_0, L, Q = bayesian_loss_estimate_KDE(X=X, y = y)\n",
    "print('Naive Maximum Loss:', L_0)\n",
    "print('Potential Minimum Loss:', L)\n",
    "print('Learning Potential from Features:', Q)"
   ]
  },
  {
   "cell_type": "code",
   "execution_count": 92,
   "id": "2450711a",
   "metadata": {},
   "outputs": [
    {
     "data": {
      "image/png": "[encoded data removed]",
      "text/plain": [
       "<Figure size 576x432 with 1 Axes>"
      ]
     },
     "metadata": {
      "needs_background": "light"
     },
     "output_type": "display_data"
    }
   ],
   "source": [
    "# plt.figure()\n",
    "fig, ax = plt.subplots(figsize = (8,6))\n",
    "\n",
    "# Hide the right and top spines\n",
    "ax.spines[['right', 'top']].set_visible(False)\n",
    "\n",
    "plt.hist(x_R, bins = 10, alpha = 0.75, label='Renewed')\n",
    "plt.hist(x_C, bins = 10, alpha = 0.75, label='Churned')\n",
    "plt.grid(alpha = 0.5)\n",
    "plt.xlabel('Activity Scores', fontsize = 15)\n",
    "plt.ylabel('Customer Count', fontsize = 15)\n",
    "plt.legend(loc = 'best', fontsize = 15)\n",
    "# Create a text object and add it to the axis\n",
    "text_box = fig.text(0.175, 0.7, r'${\\cal Q}$='+str(round(Q,3)), fontsize=20, color='black', bbox=dict(facecolor='white', edgecolor='black'))\n",
    "ax.add_artist(text_box)\n",
    "plt.show()"
   ]
  },
  {
   "cell_type": "markdown",
   "id": "2ba9b896",
   "metadata": {},
   "source": [
    "## Applications Questions"
   ]
  },
  {
   "cell_type": "markdown",
   "id": "bb62f129",
   "metadata": {},
   "source": [
    "#### What questions does this formalism help one answer?\n",
    "\n",
    "1. **Minimum Loss Prediction:** What is the minimum loss we expect from a trained model? Can we use this limit to determine if a model has been over-trained?\n",
    "    \n",
    "\n",
    "2. **Fundamental Question of ML:** Does knowing $\\textbf{x}_i$ have the potential to help determine class $y_i$?\n",
    "    \n",
    "   \n",
    "3. **Most Valuable Features:** Which features or feature combinations have the highest learning potential (i.e., can best help to distinguish classes without overtraining)?"
   ]
  },
  {
   "cell_type": "markdown",
   "id": "fe56de17",
   "metadata": {},
   "source": [
    "### 1. Minimum Loss Prediction\n",
    "\n",
    "What is the minimum loss we expect for the model? When do we know the model has been over-trained?\n",
    "\n",
    "> *Answer:* The minimum loss we expect to get from the data is ${\\cal L}$. If the loss is below this value then Bayes rule is violated (i.e., we're inferring probabilities distinct from their true values) and the model has been overtrained. "
   ]
  },
  {
   "cell_type": "code",
   "execution_count": 93,
   "id": "0a5696c0",
   "metadata": {},
   "outputs": [],
   "source": [
    "# Split the data into training and testing sets\n",
    "X_train, X_test, y_train, y_test = train_test_split(X, y, test_size=0.2, random_state=42)"
   ]
  },
  {
   "cell_type": "markdown",
   "id": "12b66897",
   "metadata": {},
   "source": [
    "#### Naive Bayes"
   ]
  },
  {
   "cell_type": "code",
   "execution_count": 94,
   "id": "92468543",
   "metadata": {},
   "outputs": [],
   "source": [
    "# NAIVE BAYES CLASSIFICATION \n",
    "nb_clf = GaussianNB().fit(X_train, y_train)\n",
    "# getting naive bayes probabilities \n",
    "nb_probs_train = nb_clf.predict_proba(X_train)"
   ]
  },
  {
   "cell_type": "code",
   "execution_count": 95,
   "id": "c85af47b",
   "metadata": {},
   "outputs": [
    {
     "name": "stdout",
     "output_type": "stream",
     "text": [
      "Model Loss: 0.5272296411143825\n",
      "Bayesian Estimate of Minimum Loss: 0.5413713257232045\n"
     ]
    }
   ],
   "source": [
    "# calculation of loss entropy; k-nearest neighbor\n",
    "y_ialpha = np.array(pd.get_dummies(y_train))\n",
    "loss_entropy0 =  -np.sum(np.log(nb_probs_train+1e-10)*y_ialpha)/(len(y_ialpha))\n",
    "print('Model Loss:', loss_entropy0)\n",
    "print('Bayesian Estimate of Minimum Loss:', L)"
   ]
  },
  {
   "cell_type": "markdown",
   "id": "3732db5e",
   "metadata": {},
   "source": [
    "**Consistent with the limit!**"
   ]
  },
  {
   "cell_type": "code",
   "execution_count": 96,
   "id": "7cbb5572",
   "metadata": {},
   "outputs": [
    {
     "name": "stdout",
     "output_type": "stream",
     "text": [
      "Train Accuracy: 0.6388817679267483\n",
      "Test Accuracy: 0.5997181113460184\n"
     ]
    }
   ],
   "source": [
    "# checking the overfitting\n",
    "\n",
    "# Make predictions on the test data\n",
    "y_pred_train = nb_clf.predict(X_train)\n",
    "y_pred_test = nb_clf.predict(X_test)\n",
    "\n",
    "# Calculate the accuracy of the classifier\n",
    "train_accuracy = balanced_accuracy_score(y_train, y_pred_train)\n",
    "test_accuracy = balanced_accuracy_score(y_test, y_pred_test)\n",
    "print(\"Train Accuracy:\", train_accuracy)\n",
    "print(\"Test Accuracy:\", test_accuracy)"
   ]
  },
  {
   "cell_type": "markdown",
   "id": "2a7968d8",
   "metadata": {},
   "source": [
    "#### KNearest Neighbors"
   ]
  },
  {
   "cell_type": "code",
   "execution_count": 107,
   "id": "d4119b7e",
   "metadata": {},
   "outputs": [],
   "source": [
    "# KNN CLASSIFICATION \n",
    "knn_clf = KNeighborsClassifier(n_neighbors=20).fit(X_train, y_train)\n",
    "# getting knn probabilities \n",
    "knn_probs_train = knn_clf.predict_proba(X_train)\n",
    "small_value = 1e-30 # Define a small non-zero value\n",
    "knn_probs_train[knn_probs_train == 0] = small_value # Replace zero values with the small value"
   ]
  },
  {
   "cell_type": "code",
   "execution_count": 108,
   "id": "5b5f4539",
   "metadata": {},
   "outputs": [
    {
     "name": "stdout",
     "output_type": "stream",
     "text": [
      "Model Loss: 0.5350519457949411\n",
      "Bayesian Estimate of Minimum Loss: 0.5413713257232045\n"
     ]
    }
   ],
   "source": [
    "# calculation of loss entropy; k-nearest neighbor\n",
    "y_ialpha = np.array(pd.get_dummies(y_train))\n",
    "loss_entropy2 =  -np.sum(np.log(knn_probs_train+1e-10)*y_ialpha)/(len(y_ialpha))\n",
    "print('Model Loss:', loss_entropy2)\n",
    "print('Bayesian Estimate of Minimum Loss:', L)"
   ]
  },
  {
   "cell_type": "markdown",
   "id": "5252ee8a",
   "metadata": {},
   "source": [
    "***Overfitted!***"
   ]
  },
  {
   "cell_type": "code",
   "execution_count": 109,
   "id": "6f079c7f",
   "metadata": {},
   "outputs": [
    {
     "name": "stdout",
     "output_type": "stream",
     "text": [
      "Train Accuracy: 0.6420664813025445\n",
      "Test Accuracy: 0.5668982180610087\n"
     ]
    }
   ],
   "source": [
    "# checking the overfitting\n",
    "\n",
    "# Make predictions on the test data\n",
    "y_pred_train = knn_clf.predict(X_train)\n",
    "y_pred_test = knn_clf.predict(X_test)\n",
    "\n",
    "# Calculate the accuracy of the classifier\n",
    "train_accuracy = balanced_accuracy_score(y_train, y_pred_train)\n",
    "test_accuracy = balanced_accuracy_score(y_test, y_pred_test)\n",
    "print(\"Train Accuracy:\", train_accuracy)\n",
    "print(\"Test Accuracy:\", test_accuracy)"
   ]
  },
  {
   "cell_type": "markdown",
   "id": "14c66b17",
   "metadata": {},
   "source": [
    "#### Decision Tree Classification"
   ]
  },
  {
   "cell_type": "code",
   "execution_count": 110,
   "id": "a7c2289f",
   "metadata": {},
   "outputs": [],
   "source": [
    "# DECISION TREE CLASSIFICATION\n",
    "tree_clf =  DecisionTreeClassifier(random_state=42).fit(X_train, y_train)\n",
    "# getting tree probabilities \n",
    "tree_probs_train = tree_clf.predict_proba(X_train)\n",
    "small_value = 1e-30 # Define a small non-zero value\n",
    "tree_probs_train[tree_probs_train == 0] = small_value # Replace zero values with the small value"
   ]
  },
  {
   "cell_type": "code",
   "execution_count": 111,
   "id": "8fbbb755",
   "metadata": {},
   "outputs": [
    {
     "name": "stdout",
     "output_type": "stream",
     "text": [
      "Model Loss: 0.5077746547739472\n",
      "Bayesian Estimate of Minimum Loss: 0.5413713257232045\n"
     ]
    }
   ],
   "source": [
    "# calculation of loss entropy; decision tree\n",
    "y_ialpha = np.array(pd.get_dummies(y_train))\n",
    "loss_entropy3 = -np.sum(np.log(tree_probs_train+1e-10)*y_ialpha)/(len(y_ialpha))\n",
    "print('Model Loss:', loss_entropy3)\n",
    "print('Bayesian Estimate of Minimum Loss:', L)"
   ]
  },
  {
   "cell_type": "markdown",
   "id": "f25e83a8",
   "metadata": {},
   "source": [
    "***Overfitted!***"
   ]
  },
  {
   "cell_type": "code",
   "execution_count": 112,
   "id": "3f41667e",
   "metadata": {},
   "outputs": [
    {
     "name": "stdout",
     "output_type": "stream",
     "text": [
      "Train Accuracy: 0.6389540730807912\n",
      "Test Accuracy: 0.5847679452330615\n"
     ]
    }
   ],
   "source": [
    "### Checking the overfitting\n",
    "\n",
    "# Make predictions on the test data\n",
    "y_pred_train = tree_clf.predict(X_train)\n",
    "y_pred_test = tree_clf.predict(X_test)\n",
    "\n",
    "# Calculate the accuracy of the classifier\n",
    "train_accuracy = balanced_accuracy_score(y_train, y_pred_train)\n",
    "test_accuracy = balanced_accuracy_score(y_test, y_pred_test)\n",
    "print(\"Train Accuracy:\", train_accuracy)\n",
    "print(\"Test Accuracy:\", test_accuracy)"
   ]
  },
  {
   "cell_type": "markdown",
   "id": "dffe4b14",
   "metadata": {},
   "source": [
    "#### Logistic Regression"
   ]
  },
  {
   "cell_type": "code",
   "execution_count": 113,
   "id": "16fe3a54",
   "metadata": {},
   "outputs": [],
   "source": [
    "# LOGISTIC REGRESSION CLASSIFICATION\n",
    "clf = LogisticRegression(random_state=0).fit(X_train, y_train)\n",
    "# getting log regression probs\n",
    "log_reg_probs_train = clf.predict_proba(X_train)"
   ]
  },
  {
   "cell_type": "code",
   "execution_count": 114,
   "id": "27ac4183",
   "metadata": {},
   "outputs": [
    {
     "name": "stdout",
     "output_type": "stream",
     "text": [
      "Model Loss: 0.5540440832285047\n",
      "Bayesian Estimate of Minimum Loss: 0.5413713257232045\n"
     ]
    }
   ],
   "source": [
    "# calculation of loss entropy; logistic regression\n",
    "y_ialpha = np.array(pd.get_dummies(y_train))\n",
    "loss_entropy = -np.sum(np.log(log_reg_probs_train)*y_ialpha)/(len(y_ialpha))\n",
    "print('Model Loss:', loss_entropy)\n",
    "print('Bayesian Estimate of Minimum Loss:', L)"
   ]
  },
  {
   "cell_type": "markdown",
   "id": "0b28bcff",
   "metadata": {},
   "source": [
    "**This one is consistent with the limit!**"
   ]
  },
  {
   "cell_type": "code",
   "execution_count": 115,
   "id": "edd1cc12",
   "metadata": {
    "scrolled": true
   },
   "outputs": [
    {
     "name": "stdout",
     "output_type": "stream",
     "text": [
      "Train Accuracy: 0.5862140364023585\n",
      "Test Accuracy: 0.5956911305748516\n"
     ]
    }
   ],
   "source": [
    "# Checking the underfitting\n",
    "\n",
    "# Make predictions on the test data\n",
    "y_pred_train = clf.predict(X_train)\n",
    "y_pred_test = clf.predict(X_test)\n",
    "\n",
    "# Calculate the accuracy of the classifier\n",
    "train_accuracy = balanced_accuracy_score(y_train, y_pred_train)\n",
    "test_accuracy = balanced_accuracy_score(y_test, y_pred_test)\n",
    "print(\"Train Accuracy:\", train_accuracy)\n",
    "print(\"Test Accuracy:\", test_accuracy)"
   ]
  },
  {
   "cell_type": "markdown",
   "id": "c2ea8498",
   "metadata": {},
   "source": [
    "#### Neural Network Example "
   ]
  },
  {
   "cell_type": "code",
   "execution_count": 116,
   "id": "ccbc5a6d",
   "metadata": {},
   "outputs": [],
   "source": [
    "from keras.backend import clear_session\n",
    "clear_session()"
   ]
  },
  {
   "cell_type": "code",
   "execution_count": 117,
   "id": "b24fa501",
   "metadata": {},
   "outputs": [],
   "source": [
    "# Split the data into training and testing sets\n",
    "X_train, X_test, y_train, y_test = train_test_split(X, y_matrix[:,0], test_size=0.2, random_state=42)"
   ]
  },
  {
   "cell_type": "code",
   "execution_count": 118,
   "id": "72cf0fe2",
   "metadata": {},
   "outputs": [],
   "source": [
    "def NormalizeData(data):\n",
    "    return (data - np.min(data)) / (np.max(data) - np.min(data))-0.5"
   ]
  },
  {
   "cell_type": "code",
   "execution_count": 119,
   "id": "7221c7e6",
   "metadata": {},
   "outputs": [],
   "source": [
    "from keras.models import Sequential\n",
    "from keras import layers\n",
    "from keras import backend as K\n",
    "\n",
    "input_dim = X.shape[1]  # Number of features\n",
    "\n",
    "model = Sequential()\n",
    "model.add(layers.Dense(2, input_dim=input_dim, activation='relu'))\n",
    "model.add(layers.Dense(1, activation='sigmoid'))"
   ]
  },
  {
   "cell_type": "code",
   "execution_count": 120,
   "id": "0be52b65",
   "metadata": {},
   "outputs": [
    {
     "name": "stdout",
     "output_type": "stream",
     "text": [
      "Model: \"sequential\"\n",
      "_________________________________________________________________\n",
      " Layer (type)                Output Shape              Param #   \n",
      "=================================================================\n",
      " dense (Dense)               (None, 2)                 4         \n",
      "                                                                 \n",
      " dense_1 (Dense)             (None, 1)                 3         \n",
      "                                                                 \n",
      "=================================================================\n",
      "Total params: 7 (28.00 Byte)\n",
      "Trainable params: 7 (28.00 Byte)\n",
      "Non-trainable params: 0 (0.00 Byte)\n",
      "_________________________________________________________________\n"
     ]
    }
   ],
   "source": [
    "model.compile(loss='binary_crossentropy', \n",
    "              optimizer='adam', \n",
    "              metrics=['accuracy'])\n",
    "\n",
    "K.set_value(model.optimizer.learning_rate, 0.0005)\n",
    "model.summary()"
   ]
  },
  {
   "cell_type": "code",
   "execution_count": 121,
   "id": "b6240844",
   "metadata": {},
   "outputs": [],
   "source": [
    "history = model.fit(NormalizeData(X_train), y_train,\n",
    "                    epochs=200,\n",
    "                    verbose=False,\n",
    "                    validation_data=(NormalizeData(X_test), y_test),\n",
    "                    batch_size=10)"
   ]
  },
  {
   "cell_type": "code",
   "execution_count": 122,
   "id": "55cffbe7",
   "metadata": {},
   "outputs": [
    {
     "name": "stdout",
     "output_type": "stream",
     "text": [
      "Training Accuracy: 0.6896\n",
      "Testing Accuracy:  0.6056\n"
     ]
    }
   ],
   "source": [
    "loss, accuracy = model.evaluate(NormalizeData(X_train), y_train, verbose=False)\n",
    "print(\"Training Accuracy: {:.4f}\".format(accuracy))\n",
    "loss, accuracy = model.evaluate(NormalizeData(X_test), y_test, verbose=False)\n",
    "print(\"Testing Accuracy:  {:.4f}\".format(accuracy))"
   ]
  },
  {
   "cell_type": "code",
   "execution_count": 123,
   "id": "bc628abd",
   "metadata": {},
   "outputs": [],
   "source": [
    "import matplotlib.pyplot as plt\n",
    "\n",
    "def plot_history(history, min_loss = None):\n",
    "    acc = history.history['accuracy']\n",
    "    val_acc = history.history['val_accuracy']\n",
    "    loss = history.history['loss']\n",
    "    val_loss = history.history['val_loss']\n",
    "    x = range(1, len(acc) + 1)\n",
    "\n",
    "    plt.figure(figsize=(13, 5))\n",
    "    plt.subplot(1, 2, 1)\n",
    "    plt.plot(x, acc, 'b', label='Training acc')\n",
    "    plt.plot(x, val_acc, 'r', label='Validation acc')\n",
    "    plt.grid(alpha = 0.5)\n",
    "    plt.title('Training and validation accuracy')\n",
    "    plt.legend()\n",
    "    plt.subplot(1, 2, 2)\n",
    "    plt.plot(x, loss, 'b', label='Training loss')\n",
    "    plt.plot(x, val_loss, 'r', label='Validation loss')\n",
    "    plt.grid(alpha = 0.5)\n",
    "    plt.title('Training and validation loss')\n",
    "    if min_loss:\n",
    "        plt.axhline(y = min_loss, linestyle = ':', linewidth=3, color = 'k', label = 'Bayesian minimum loss estimate')\n",
    "    plt.legend()\n",
    "#     plt.savefig('bayesian_loss_neural_network.png', bbox_inches = 'tight')\n",
    "    plt.show()"
   ]
  },
  {
   "cell_type": "code",
   "execution_count": 124,
   "id": "945aebc6",
   "metadata": {
    "scrolled": true
   },
   "outputs": [
    {
     "data": {
      "image/png": "[encoded data removed]",
      "text/plain": [
       "<Figure size 936x360 with 2 Axes>"
      ]
     },
     "metadata": {
      "needs_background": "light"
     },
     "output_type": "display_data"
    }
   ],
   "source": [
    "plot_history(history, min_loss = L)"
   ]
  },
  {
   "cell_type": "markdown",
   "id": "bc48b851",
   "metadata": {},
   "source": [
    "### 2. Fundamental Question of ML: Can we learn from this data?\n",
    "\n",
    "Does knowing $\\textbf{x}$ have the potential to help determine class $y$?\n",
    "\n",
    "> *Answer:* We can use the value of the learning potential ${\\cal Q}$ to determine how well $\\textbf{x}$ can determine $y$. The closer ${\\cal Q}$ is to 1, the better $textbf{x}$ is at distinguishing $y$. "
   ]
  },
  {
   "cell_type": "markdown",
   "id": "989f8508",
   "metadata": {},
   "source": [
    "#### Iris Data Set"
   ]
  },
  {
   "cell_type": "code",
   "execution_count": 125,
   "id": "93e32b2e",
   "metadata": {},
   "outputs": [],
   "source": [
    "from sklearn.datasets import load_iris\n",
    "\n",
    "iris = load_iris()\n",
    "df_iris = pd.DataFrame(data=iris.data, columns=iris.feature_names)\n",
    "df_iris['target'] = iris.target"
   ]
  },
  {
   "cell_type": "code",
   "execution_count": 126,
   "id": "dd11d094",
   "metadata": {},
   "outputs": [
    {
     "data": {
      "text/html": [
       "<div>\n",
       "<style scoped>\n",
       "    .dataframe tbody tr th:only-of-type {\n",
       "        vertical-align: middle;\n",
       "    }\n",
       "\n",
       "    .dataframe tbody tr th {\n",
       "        vertical-align: top;\n",
       "    }\n",
       "\n",
       "    .dataframe thead th {\n",
       "        text-align: right;\n",
       "    }\n",
       "</style>\n",
       "<table border=\"1\" class=\"dataframe\">\n",
       "  <thead>\n",
       "    <tr style=\"text-align: right;\">\n",
       "      <th></th>\n",
       "      <th>sepal length (cm)</th>\n",
       "      <th>sepal width (cm)</th>\n",
       "      <th>petal length (cm)</th>\n",
       "      <th>petal width (cm)</th>\n",
       "      <th>target</th>\n",
       "    </tr>\n",
       "  </thead>\n",
       "  <tbody>\n",
       "    <tr>\n",
       "      <th>0</th>\n",
       "      <td>5.1</td>\n",
       "      <td>3.5</td>\n",
       "      <td>1.4</td>\n",
       "      <td>0.2</td>\n",
       "      <td>0</td>\n",
       "    </tr>\n",
       "    <tr>\n",
       "      <th>1</th>\n",
       "      <td>4.9</td>\n",
       "      <td>3.0</td>\n",
       "      <td>1.4</td>\n",
       "      <td>0.2</td>\n",
       "      <td>0</td>\n",
       "    </tr>\n",
       "    <tr>\n",
       "      <th>2</th>\n",
       "      <td>4.7</td>\n",
       "      <td>3.2</td>\n",
       "      <td>1.3</td>\n",
       "      <td>0.2</td>\n",
       "      <td>0</td>\n",
       "    </tr>\n",
       "    <tr>\n",
       "      <th>3</th>\n",
       "      <td>4.6</td>\n",
       "      <td>3.1</td>\n",
       "      <td>1.5</td>\n",
       "      <td>0.2</td>\n",
       "      <td>0</td>\n",
       "    </tr>\n",
       "    <tr>\n",
       "      <th>4</th>\n",
       "      <td>5.0</td>\n",
       "      <td>3.6</td>\n",
       "      <td>1.4</td>\n",
       "      <td>0.2</td>\n",
       "      <td>0</td>\n",
       "    </tr>\n",
       "    <tr>\n",
       "      <th>...</th>\n",
       "      <td>...</td>\n",
       "      <td>...</td>\n",
       "      <td>...</td>\n",
       "      <td>...</td>\n",
       "      <td>...</td>\n",
       "    </tr>\n",
       "    <tr>\n",
       "      <th>145</th>\n",
       "      <td>6.7</td>\n",
       "      <td>3.0</td>\n",
       "      <td>5.2</td>\n",
       "      <td>2.3</td>\n",
       "      <td>2</td>\n",
       "    </tr>\n",
       "    <tr>\n",
       "      <th>146</th>\n",
       "      <td>6.3</td>\n",
       "      <td>2.5</td>\n",
       "      <td>5.0</td>\n",
       "      <td>1.9</td>\n",
       "      <td>2</td>\n",
       "    </tr>\n",
       "    <tr>\n",
       "      <th>147</th>\n",
       "      <td>6.5</td>\n",
       "      <td>3.0</td>\n",
       "      <td>5.2</td>\n",
       "      <td>2.0</td>\n",
       "      <td>2</td>\n",
       "    </tr>\n",
       "    <tr>\n",
       "      <th>148</th>\n",
       "      <td>6.2</td>\n",
       "      <td>3.4</td>\n",
       "      <td>5.4</td>\n",
       "      <td>2.3</td>\n",
       "      <td>2</td>\n",
       "    </tr>\n",
       "    <tr>\n",
       "      <th>149</th>\n",
       "      <td>5.9</td>\n",
       "      <td>3.0</td>\n",
       "      <td>5.1</td>\n",
       "      <td>1.8</td>\n",
       "      <td>2</td>\n",
       "    </tr>\n",
       "  </tbody>\n",
       "</table>\n",
       "<p>150 rows × 5 columns</p>\n",
       "</div>"
      ],
      "text/plain": [
       "     sepal length (cm)  sepal width (cm)  petal length (cm)  petal width (cm)  \\\n",
       "0                  5.1               3.5                1.4               0.2   \n",
       "1                  4.9               3.0                1.4               0.2   \n",
       "2                  4.7               3.2                1.3               0.2   \n",
       "3                  4.6               3.1                1.5               0.2   \n",
       "4                  5.0               3.6                1.4               0.2   \n",
       "..                 ...               ...                ...               ...   \n",
       "145                6.7               3.0                5.2               2.3   \n",
       "146                6.3               2.5                5.0               1.9   \n",
       "147                6.5               3.0                5.2               2.0   \n",
       "148                6.2               3.4                5.4               2.3   \n",
       "149                5.9               3.0                5.1               1.8   \n",
       "\n",
       "     target  \n",
       "0         0  \n",
       "1         0  \n",
       "2         0  \n",
       "3         0  \n",
       "4         0  \n",
       "..      ...  \n",
       "145       2  \n",
       "146       2  \n",
       "147       2  \n",
       "148       2  \n",
       "149       2  \n",
       "\n",
       "[150 rows x 5 columns]"
      ]
     },
     "execution_count": 126,
     "metadata": {},
     "output_type": "execute_result"
    }
   ],
   "source": [
    "df_iris"
   ]
  },
  {
   "cell_type": "code",
   "execution_count": 128,
   "id": "2fe7012d",
   "metadata": {},
   "outputs": [
    {
     "name": "stdout",
     "output_type": "stream",
     "text": [
      "Naive Maximum Loss: 1.0986122886681096\n",
      "Potential Minimum Loss: 0.016470019259333224\n",
      "Learning Potential from Features: 0.9850083424068554\n"
     ]
    }
   ],
   "source": [
    "L_0, L, Q = bayesian_loss_estimate_KDE(df=df_iris, class_label='target')\n",
    "print('Naive Maximum Loss:', L_0)\n",
    "print('Potential Minimum Loss:', L)\n",
    "print('Learning Potential from Features:', Q)"
   ]
  },
  {
   "cell_type": "markdown",
   "id": "dbd938ca",
   "metadata": {},
   "source": [
    "#### Wines Dataset"
   ]
  },
  {
   "cell_type": "code",
   "execution_count": 129,
   "id": "f7739799",
   "metadata": {},
   "outputs": [],
   "source": [
    "from sklearn.datasets import load_wine\n",
    "\n",
    "wines = load_wine()\n",
    "df_wines = pd.DataFrame(data=wines.data, columns=wines.feature_names)\n",
    "df_wines['target'] = wines.target"
   ]
  },
  {
   "cell_type": "code",
   "execution_count": 130,
   "id": "fbe366e4",
   "metadata": {},
   "outputs": [
    {
     "data": {
      "text/html": [
       "<div>\n",
       "<style scoped>\n",
       "    .dataframe tbody tr th:only-of-type {\n",
       "        vertical-align: middle;\n",
       "    }\n",
       "\n",
       "    .dataframe tbody tr th {\n",
       "        vertical-align: top;\n",
       "    }\n",
       "\n",
       "    .dataframe thead th {\n",
       "        text-align: right;\n",
       "    }\n",
       "</style>\n",
       "<table border=\"1\" class=\"dataframe\">\n",
       "  <thead>\n",
       "    <tr style=\"text-align: right;\">\n",
       "      <th></th>\n",
       "      <th>alcohol</th>\n",
       "      <th>malic_acid</th>\n",
       "      <th>ash</th>\n",
       "      <th>alcalinity_of_ash</th>\n",
       "      <th>magnesium</th>\n",
       "      <th>total_phenols</th>\n",
       "      <th>flavanoids</th>\n",
       "      <th>nonflavanoid_phenols</th>\n",
       "      <th>proanthocyanins</th>\n",
       "      <th>color_intensity</th>\n",
       "      <th>hue</th>\n",
       "      <th>od280/od315_of_diluted_wines</th>\n",
       "      <th>proline</th>\n",
       "      <th>target</th>\n",
       "    </tr>\n",
       "  </thead>\n",
       "  <tbody>\n",
       "    <tr>\n",
       "      <th>0</th>\n",
       "      <td>14.23</td>\n",
       "      <td>1.71</td>\n",
       "      <td>2.43</td>\n",
       "      <td>15.6</td>\n",
       "      <td>127.0</td>\n",
       "      <td>2.80</td>\n",
       "      <td>3.06</td>\n",
       "      <td>0.28</td>\n",
       "      <td>2.29</td>\n",
       "      <td>5.64</td>\n",
       "      <td>1.04</td>\n",
       "      <td>3.92</td>\n",
       "      <td>1065.0</td>\n",
       "      <td>0</td>\n",
       "    </tr>\n",
       "    <tr>\n",
       "      <th>1</th>\n",
       "      <td>13.20</td>\n",
       "      <td>1.78</td>\n",
       "      <td>2.14</td>\n",
       "      <td>11.2</td>\n",
       "      <td>100.0</td>\n",
       "      <td>2.65</td>\n",
       "      <td>2.76</td>\n",
       "      <td>0.26</td>\n",
       "      <td>1.28</td>\n",
       "      <td>4.38</td>\n",
       "      <td>1.05</td>\n",
       "      <td>3.40</td>\n",
       "      <td>1050.0</td>\n",
       "      <td>0</td>\n",
       "    </tr>\n",
       "    <tr>\n",
       "      <th>2</th>\n",
       "      <td>13.16</td>\n",
       "      <td>2.36</td>\n",
       "      <td>2.67</td>\n",
       "      <td>18.6</td>\n",
       "      <td>101.0</td>\n",
       "      <td>2.80</td>\n",
       "      <td>3.24</td>\n",
       "      <td>0.30</td>\n",
       "      <td>2.81</td>\n",
       "      <td>5.68</td>\n",
       "      <td>1.03</td>\n",
       "      <td>3.17</td>\n",
       "      <td>1185.0</td>\n",
       "      <td>0</td>\n",
       "    </tr>\n",
       "    <tr>\n",
       "      <th>3</th>\n",
       "      <td>14.37</td>\n",
       "      <td>1.95</td>\n",
       "      <td>2.50</td>\n",
       "      <td>16.8</td>\n",
       "      <td>113.0</td>\n",
       "      <td>3.85</td>\n",
       "      <td>3.49</td>\n",
       "      <td>0.24</td>\n",
       "      <td>2.18</td>\n",
       "      <td>7.80</td>\n",
       "      <td>0.86</td>\n",
       "      <td>3.45</td>\n",
       "      <td>1480.0</td>\n",
       "      <td>0</td>\n",
       "    </tr>\n",
       "    <tr>\n",
       "      <th>4</th>\n",
       "      <td>13.24</td>\n",
       "      <td>2.59</td>\n",
       "      <td>2.87</td>\n",
       "      <td>21.0</td>\n",
       "      <td>118.0</td>\n",
       "      <td>2.80</td>\n",
       "      <td>2.69</td>\n",
       "      <td>0.39</td>\n",
       "      <td>1.82</td>\n",
       "      <td>4.32</td>\n",
       "      <td>1.04</td>\n",
       "      <td>2.93</td>\n",
       "      <td>735.0</td>\n",
       "      <td>0</td>\n",
       "    </tr>\n",
       "    <tr>\n",
       "      <th>...</th>\n",
       "      <td>...</td>\n",
       "      <td>...</td>\n",
       "      <td>...</td>\n",
       "      <td>...</td>\n",
       "      <td>...</td>\n",
       "      <td>...</td>\n",
       "      <td>...</td>\n",
       "      <td>...</td>\n",
       "      <td>...</td>\n",
       "      <td>...</td>\n",
       "      <td>...</td>\n",
       "      <td>...</td>\n",
       "      <td>...</td>\n",
       "      <td>...</td>\n",
       "    </tr>\n",
       "    <tr>\n",
       "      <th>173</th>\n",
       "      <td>13.71</td>\n",
       "      <td>5.65</td>\n",
       "      <td>2.45</td>\n",
       "      <td>20.5</td>\n",
       "      <td>95.0</td>\n",
       "      <td>1.68</td>\n",
       "      <td>0.61</td>\n",
       "      <td>0.52</td>\n",
       "      <td>1.06</td>\n",
       "      <td>7.70</td>\n",
       "      <td>0.64</td>\n",
       "      <td>1.74</td>\n",
       "      <td>740.0</td>\n",
       "      <td>2</td>\n",
       "    </tr>\n",
       "    <tr>\n",
       "      <th>174</th>\n",
       "      <td>13.40</td>\n",
       "      <td>3.91</td>\n",
       "      <td>2.48</td>\n",
       "      <td>23.0</td>\n",
       "      <td>102.0</td>\n",
       "      <td>1.80</td>\n",
       "      <td>0.75</td>\n",
       "      <td>0.43</td>\n",
       "      <td>1.41</td>\n",
       "      <td>7.30</td>\n",
       "      <td>0.70</td>\n",
       "      <td>1.56</td>\n",
       "      <td>750.0</td>\n",
       "      <td>2</td>\n",
       "    </tr>\n",
       "    <tr>\n",
       "      <th>175</th>\n",
       "      <td>13.27</td>\n",
       "      <td>4.28</td>\n",
       "      <td>2.26</td>\n",
       "      <td>20.0</td>\n",
       "      <td>120.0</td>\n",
       "      <td>1.59</td>\n",
       "      <td>0.69</td>\n",
       "      <td>0.43</td>\n",
       "      <td>1.35</td>\n",
       "      <td>10.20</td>\n",
       "      <td>0.59</td>\n",
       "      <td>1.56</td>\n",
       "      <td>835.0</td>\n",
       "      <td>2</td>\n",
       "    </tr>\n",
       "    <tr>\n",
       "      <th>176</th>\n",
       "      <td>13.17</td>\n",
       "      <td>2.59</td>\n",
       "      <td>2.37</td>\n",
       "      <td>20.0</td>\n",
       "      <td>120.0</td>\n",
       "      <td>1.65</td>\n",
       "      <td>0.68</td>\n",
       "      <td>0.53</td>\n",
       "      <td>1.46</td>\n",
       "      <td>9.30</td>\n",
       "      <td>0.60</td>\n",
       "      <td>1.62</td>\n",
       "      <td>840.0</td>\n",
       "      <td>2</td>\n",
       "    </tr>\n",
       "    <tr>\n",
       "      <th>177</th>\n",
       "      <td>14.13</td>\n",
       "      <td>4.10</td>\n",
       "      <td>2.74</td>\n",
       "      <td>24.5</td>\n",
       "      <td>96.0</td>\n",
       "      <td>2.05</td>\n",
       "      <td>0.76</td>\n",
       "      <td>0.56</td>\n",
       "      <td>1.35</td>\n",
       "      <td>9.20</td>\n",
       "      <td>0.61</td>\n",
       "      <td>1.60</td>\n",
       "      <td>560.0</td>\n",
       "      <td>2</td>\n",
       "    </tr>\n",
       "  </tbody>\n",
       "</table>\n",
       "<p>178 rows × 14 columns</p>\n",
       "</div>"
      ],
      "text/plain": [
       "     alcohol  malic_acid   ash  alcalinity_of_ash  magnesium  total_phenols  \\\n",
       "0      14.23        1.71  2.43               15.6      127.0           2.80   \n",
       "1      13.20        1.78  2.14               11.2      100.0           2.65   \n",
       "2      13.16        2.36  2.67               18.6      101.0           2.80   \n",
       "3      14.37        1.95  2.50               16.8      113.0           3.85   \n",
       "4      13.24        2.59  2.87               21.0      118.0           2.80   \n",
       "..       ...         ...   ...                ...        ...            ...   \n",
       "173    13.71        5.65  2.45               20.5       95.0           1.68   \n",
       "174    13.40        3.91  2.48               23.0      102.0           1.80   \n",
       "175    13.27        4.28  2.26               20.0      120.0           1.59   \n",
       "176    13.17        2.59  2.37               20.0      120.0           1.65   \n",
       "177    14.13        4.10  2.74               24.5       96.0           2.05   \n",
       "\n",
       "     flavanoids  nonflavanoid_phenols  proanthocyanins  color_intensity   hue  \\\n",
       "0          3.06                  0.28             2.29             5.64  1.04   \n",
       "1          2.76                  0.26             1.28             4.38  1.05   \n",
       "2          3.24                  0.30             2.81             5.68  1.03   \n",
       "3          3.49                  0.24             2.18             7.80  0.86   \n",
       "4          2.69                  0.39             1.82             4.32  1.04   \n",
       "..          ...                   ...              ...              ...   ...   \n",
       "173        0.61                  0.52             1.06             7.70  0.64   \n",
       "174        0.75                  0.43             1.41             7.30  0.70   \n",
       "175        0.69                  0.43             1.35            10.20  0.59   \n",
       "176        0.68                  0.53             1.46             9.30  0.60   \n",
       "177        0.76                  0.56             1.35             9.20  0.61   \n",
       "\n",
       "     od280/od315_of_diluted_wines  proline  target  \n",
       "0                            3.92   1065.0       0  \n",
       "1                            3.40   1050.0       0  \n",
       "2                            3.17   1185.0       0  \n",
       "3                            3.45   1480.0       0  \n",
       "4                            2.93    735.0       0  \n",
       "..                            ...      ...     ...  \n",
       "173                          1.74    740.0       2  \n",
       "174                          1.56    750.0       2  \n",
       "175                          1.56    835.0       2  \n",
       "176                          1.62    840.0       2  \n",
       "177                          1.60    560.0       2  \n",
       "\n",
       "[178 rows x 14 columns]"
      ]
     },
     "execution_count": 130,
     "metadata": {},
     "output_type": "execute_result"
    }
   ],
   "source": [
    "df_wines"
   ]
  },
  {
   "cell_type": "code",
   "execution_count": 132,
   "id": "591b65f1",
   "metadata": {},
   "outputs": [
    {
     "name": "stdout",
     "output_type": "stream",
     "text": [
      "Naive Maximum Loss: 1.086038443640683\n",
      "Potential Minimum Loss: 0.00017672382597599956\n",
      "Learning Potential from Features: 0.9998372766387683\n"
     ]
    }
   ],
   "source": [
    "L_0, L, Q = bayesian_loss_estimate_KDE(df=df_wines, class_label='target')\n",
    "print('Naive Maximum Loss:', L_0)\n",
    "print('Potential Minimum Loss:', L)\n",
    "print('Learning Potential from Features:', Q)"
   ]
  },
  {
   "cell_type": "markdown",
   "id": "9d9886ed",
   "metadata": {},
   "source": [
    "#### Breast Cancer Dataset"
   ]
  },
  {
   "cell_type": "code",
   "execution_count": 133,
   "id": "777dd33a",
   "metadata": {},
   "outputs": [],
   "source": [
    "from sklearn.datasets import load_breast_cancer\n",
    "\n",
    "breast_cancer = load_breast_cancer()\n",
    "df_bc = pd.DataFrame(data=breast_cancer.data, columns=breast_cancer.feature_names)\n",
    "df_bc['target'] = breast_cancer.target"
   ]
  },
  {
   "cell_type": "code",
   "execution_count": 134,
   "id": "99e94906",
   "metadata": {},
   "outputs": [
    {
     "data": {
      "text/html": [
       "<div>\n",
       "<style scoped>\n",
       "    .dataframe tbody tr th:only-of-type {\n",
       "        vertical-align: middle;\n",
       "    }\n",
       "\n",
       "    .dataframe tbody tr th {\n",
       "        vertical-align: top;\n",
       "    }\n",
       "\n",
       "    .dataframe thead th {\n",
       "        text-align: right;\n",
       "    }\n",
       "</style>\n",
       "<table border=\"1\" class=\"dataframe\">\n",
       "  <thead>\n",
       "    <tr style=\"text-align: right;\">\n",
       "      <th></th>\n",
       "      <th>mean radius</th>\n",
       "      <th>mean texture</th>\n",
       "      <th>mean perimeter</th>\n",
       "      <th>mean area</th>\n",
       "      <th>mean smoothness</th>\n",
       "      <th>mean compactness</th>\n",
       "      <th>mean concavity</th>\n",
       "      <th>mean concave points</th>\n",
       "      <th>mean symmetry</th>\n",
       "      <th>mean fractal dimension</th>\n",
       "      <th>...</th>\n",
       "      <th>worst texture</th>\n",
       "      <th>worst perimeter</th>\n",
       "      <th>worst area</th>\n",
       "      <th>worst smoothness</th>\n",
       "      <th>worst compactness</th>\n",
       "      <th>worst concavity</th>\n",
       "      <th>worst concave points</th>\n",
       "      <th>worst symmetry</th>\n",
       "      <th>worst fractal dimension</th>\n",
       "      <th>target</th>\n",
       "    </tr>\n",
       "  </thead>\n",
       "  <tbody>\n",
       "    <tr>\n",
       "      <th>0</th>\n",
       "      <td>17.99</td>\n",
       "      <td>10.38</td>\n",
       "      <td>122.80</td>\n",
       "      <td>1001.0</td>\n",
       "      <td>0.11840</td>\n",
       "      <td>0.27760</td>\n",
       "      <td>0.30010</td>\n",
       "      <td>0.14710</td>\n",
       "      <td>0.2419</td>\n",
       "      <td>0.07871</td>\n",
       "      <td>...</td>\n",
       "      <td>17.33</td>\n",
       "      <td>184.60</td>\n",
       "      <td>2019.0</td>\n",
       "      <td>0.16220</td>\n",
       "      <td>0.66560</td>\n",
       "      <td>0.7119</td>\n",
       "      <td>0.2654</td>\n",
       "      <td>0.4601</td>\n",
       "      <td>0.11890</td>\n",
       "      <td>0</td>\n",
       "    </tr>\n",
       "    <tr>\n",
       "      <th>1</th>\n",
       "      <td>20.57</td>\n",
       "      <td>17.77</td>\n",
       "      <td>132.90</td>\n",
       "      <td>1326.0</td>\n",
       "      <td>0.08474</td>\n",
       "      <td>0.07864</td>\n",
       "      <td>0.08690</td>\n",
       "      <td>0.07017</td>\n",
       "      <td>0.1812</td>\n",
       "      <td>0.05667</td>\n",
       "      <td>...</td>\n",
       "      <td>23.41</td>\n",
       "      <td>158.80</td>\n",
       "      <td>1956.0</td>\n",
       "      <td>0.12380</td>\n",
       "      <td>0.18660</td>\n",
       "      <td>0.2416</td>\n",
       "      <td>0.1860</td>\n",
       "      <td>0.2750</td>\n",
       "      <td>0.08902</td>\n",
       "      <td>0</td>\n",
       "    </tr>\n",
       "    <tr>\n",
       "      <th>2</th>\n",
       "      <td>19.69</td>\n",
       "      <td>21.25</td>\n",
       "      <td>130.00</td>\n",
       "      <td>1203.0</td>\n",
       "      <td>0.10960</td>\n",
       "      <td>0.15990</td>\n",
       "      <td>0.19740</td>\n",
       "      <td>0.12790</td>\n",
       "      <td>0.2069</td>\n",
       "      <td>0.05999</td>\n",
       "      <td>...</td>\n",
       "      <td>25.53</td>\n",
       "      <td>152.50</td>\n",
       "      <td>1709.0</td>\n",
       "      <td>0.14440</td>\n",
       "      <td>0.42450</td>\n",
       "      <td>0.4504</td>\n",
       "      <td>0.2430</td>\n",
       "      <td>0.3613</td>\n",
       "      <td>0.08758</td>\n",
       "      <td>0</td>\n",
       "    </tr>\n",
       "    <tr>\n",
       "      <th>3</th>\n",
       "      <td>11.42</td>\n",
       "      <td>20.38</td>\n",
       "      <td>77.58</td>\n",
       "      <td>386.1</td>\n",
       "      <td>0.14250</td>\n",
       "      <td>0.28390</td>\n",
       "      <td>0.24140</td>\n",
       "      <td>0.10520</td>\n",
       "      <td>0.2597</td>\n",
       "      <td>0.09744</td>\n",
       "      <td>...</td>\n",
       "      <td>26.50</td>\n",
       "      <td>98.87</td>\n",
       "      <td>567.7</td>\n",
       "      <td>0.20980</td>\n",
       "      <td>0.86630</td>\n",
       "      <td>0.6869</td>\n",
       "      <td>0.2575</td>\n",
       "      <td>0.6638</td>\n",
       "      <td>0.17300</td>\n",
       "      <td>0</td>\n",
       "    </tr>\n",
       "    <tr>\n",
       "      <th>4</th>\n",
       "      <td>20.29</td>\n",
       "      <td>14.34</td>\n",
       "      <td>135.10</td>\n",
       "      <td>1297.0</td>\n",
       "      <td>0.10030</td>\n",
       "      <td>0.13280</td>\n",
       "      <td>0.19800</td>\n",
       "      <td>0.10430</td>\n",
       "      <td>0.1809</td>\n",
       "      <td>0.05883</td>\n",
       "      <td>...</td>\n",
       "      <td>16.67</td>\n",
       "      <td>152.20</td>\n",
       "      <td>1575.0</td>\n",
       "      <td>0.13740</td>\n",
       "      <td>0.20500</td>\n",
       "      <td>0.4000</td>\n",
       "      <td>0.1625</td>\n",
       "      <td>0.2364</td>\n",
       "      <td>0.07678</td>\n",
       "      <td>0</td>\n",
       "    </tr>\n",
       "    <tr>\n",
       "      <th>...</th>\n",
       "      <td>...</td>\n",
       "      <td>...</td>\n",
       "      <td>...</td>\n",
       "      <td>...</td>\n",
       "      <td>...</td>\n",
       "      <td>...</td>\n",
       "      <td>...</td>\n",
       "      <td>...</td>\n",
       "      <td>...</td>\n",
       "      <td>...</td>\n",
       "      <td>...</td>\n",
       "      <td>...</td>\n",
       "      <td>...</td>\n",
       "      <td>...</td>\n",
       "      <td>...</td>\n",
       "      <td>...</td>\n",
       "      <td>...</td>\n",
       "      <td>...</td>\n",
       "      <td>...</td>\n",
       "      <td>...</td>\n",
       "      <td>...</td>\n",
       "    </tr>\n",
       "    <tr>\n",
       "      <th>564</th>\n",
       "      <td>21.56</td>\n",
       "      <td>22.39</td>\n",
       "      <td>142.00</td>\n",
       "      <td>1479.0</td>\n",
       "      <td>0.11100</td>\n",
       "      <td>0.11590</td>\n",
       "      <td>0.24390</td>\n",
       "      <td>0.13890</td>\n",
       "      <td>0.1726</td>\n",
       "      <td>0.05623</td>\n",
       "      <td>...</td>\n",
       "      <td>26.40</td>\n",
       "      <td>166.10</td>\n",
       "      <td>2027.0</td>\n",
       "      <td>0.14100</td>\n",
       "      <td>0.21130</td>\n",
       "      <td>0.4107</td>\n",
       "      <td>0.2216</td>\n",
       "      <td>0.2060</td>\n",
       "      <td>0.07115</td>\n",
       "      <td>0</td>\n",
       "    </tr>\n",
       "    <tr>\n",
       "      <th>565</th>\n",
       "      <td>20.13</td>\n",
       "      <td>28.25</td>\n",
       "      <td>131.20</td>\n",
       "      <td>1261.0</td>\n",
       "      <td>0.09780</td>\n",
       "      <td>0.10340</td>\n",
       "      <td>0.14400</td>\n",
       "      <td>0.09791</td>\n",
       "      <td>0.1752</td>\n",
       "      <td>0.05533</td>\n",
       "      <td>...</td>\n",
       "      <td>38.25</td>\n",
       "      <td>155.00</td>\n",
       "      <td>1731.0</td>\n",
       "      <td>0.11660</td>\n",
       "      <td>0.19220</td>\n",
       "      <td>0.3215</td>\n",
       "      <td>0.1628</td>\n",
       "      <td>0.2572</td>\n",
       "      <td>0.06637</td>\n",
       "      <td>0</td>\n",
       "    </tr>\n",
       "    <tr>\n",
       "      <th>566</th>\n",
       "      <td>16.60</td>\n",
       "      <td>28.08</td>\n",
       "      <td>108.30</td>\n",
       "      <td>858.1</td>\n",
       "      <td>0.08455</td>\n",
       "      <td>0.10230</td>\n",
       "      <td>0.09251</td>\n",
       "      <td>0.05302</td>\n",
       "      <td>0.1590</td>\n",
       "      <td>0.05648</td>\n",
       "      <td>...</td>\n",
       "      <td>34.12</td>\n",
       "      <td>126.70</td>\n",
       "      <td>1124.0</td>\n",
       "      <td>0.11390</td>\n",
       "      <td>0.30940</td>\n",
       "      <td>0.3403</td>\n",
       "      <td>0.1418</td>\n",
       "      <td>0.2218</td>\n",
       "      <td>0.07820</td>\n",
       "      <td>0</td>\n",
       "    </tr>\n",
       "    <tr>\n",
       "      <th>567</th>\n",
       "      <td>20.60</td>\n",
       "      <td>29.33</td>\n",
       "      <td>140.10</td>\n",
       "      <td>1265.0</td>\n",
       "      <td>0.11780</td>\n",
       "      <td>0.27700</td>\n",
       "      <td>0.35140</td>\n",
       "      <td>0.15200</td>\n",
       "      <td>0.2397</td>\n",
       "      <td>0.07016</td>\n",
       "      <td>...</td>\n",
       "      <td>39.42</td>\n",
       "      <td>184.60</td>\n",
       "      <td>1821.0</td>\n",
       "      <td>0.16500</td>\n",
       "      <td>0.86810</td>\n",
       "      <td>0.9387</td>\n",
       "      <td>0.2650</td>\n",
       "      <td>0.4087</td>\n",
       "      <td>0.12400</td>\n",
       "      <td>0</td>\n",
       "    </tr>\n",
       "    <tr>\n",
       "      <th>568</th>\n",
       "      <td>7.76</td>\n",
       "      <td>24.54</td>\n",
       "      <td>47.92</td>\n",
       "      <td>181.0</td>\n",
       "      <td>0.05263</td>\n",
       "      <td>0.04362</td>\n",
       "      <td>0.00000</td>\n",
       "      <td>0.00000</td>\n",
       "      <td>0.1587</td>\n",
       "      <td>0.05884</td>\n",
       "      <td>...</td>\n",
       "      <td>30.37</td>\n",
       "      <td>59.16</td>\n",
       "      <td>268.6</td>\n",
       "      <td>0.08996</td>\n",
       "      <td>0.06444</td>\n",
       "      <td>0.0000</td>\n",
       "      <td>0.0000</td>\n",
       "      <td>0.2871</td>\n",
       "      <td>0.07039</td>\n",
       "      <td>1</td>\n",
       "    </tr>\n",
       "  </tbody>\n",
       "</table>\n",
       "<p>569 rows × 31 columns</p>\n",
       "</div>"
      ],
      "text/plain": [
       "     mean radius  mean texture  mean perimeter  mean area  mean smoothness  \\\n",
       "0          17.99         10.38          122.80     1001.0          0.11840   \n",
       "1          20.57         17.77          132.90     1326.0          0.08474   \n",
       "2          19.69         21.25          130.00     1203.0          0.10960   \n",
       "3          11.42         20.38           77.58      386.1          0.14250   \n",
       "4          20.29         14.34          135.10     1297.0          0.10030   \n",
       "..           ...           ...             ...        ...              ...   \n",
       "564        21.56         22.39          142.00     1479.0          0.11100   \n",
       "565        20.13         28.25          131.20     1261.0          0.09780   \n",
       "566        16.60         28.08          108.30      858.1          0.08455   \n",
       "567        20.60         29.33          140.10     1265.0          0.11780   \n",
       "568         7.76         24.54           47.92      181.0          0.05263   \n",
       "\n",
       "     mean compactness  mean concavity  mean concave points  mean symmetry  \\\n",
       "0             0.27760         0.30010              0.14710         0.2419   \n",
       "1             0.07864         0.08690              0.07017         0.1812   \n",
       "2             0.15990         0.19740              0.12790         0.2069   \n",
       "3             0.28390         0.24140              0.10520         0.2597   \n",
       "4             0.13280         0.19800              0.10430         0.1809   \n",
       "..                ...             ...                  ...            ...   \n",
       "564           0.11590         0.24390              0.13890         0.1726   \n",
       "565           0.10340         0.14400              0.09791         0.1752   \n",
       "566           0.10230         0.09251              0.05302         0.1590   \n",
       "567           0.27700         0.35140              0.15200         0.2397   \n",
       "568           0.04362         0.00000              0.00000         0.1587   \n",
       "\n",
       "     mean fractal dimension  ...  worst texture  worst perimeter  worst area  \\\n",
       "0                   0.07871  ...          17.33           184.60      2019.0   \n",
       "1                   0.05667  ...          23.41           158.80      1956.0   \n",
       "2                   0.05999  ...          25.53           152.50      1709.0   \n",
       "3                   0.09744  ...          26.50            98.87       567.7   \n",
       "4                   0.05883  ...          16.67           152.20      1575.0   \n",
       "..                      ...  ...            ...              ...         ...   \n",
       "564                 0.05623  ...          26.40           166.10      2027.0   \n",
       "565                 0.05533  ...          38.25           155.00      1731.0   \n",
       "566                 0.05648  ...          34.12           126.70      1124.0   \n",
       "567                 0.07016  ...          39.42           184.60      1821.0   \n",
       "568                 0.05884  ...          30.37            59.16       268.6   \n",
       "\n",
       "     worst smoothness  worst compactness  worst concavity  \\\n",
       "0             0.16220            0.66560           0.7119   \n",
       "1             0.12380            0.18660           0.2416   \n",
       "2             0.14440            0.42450           0.4504   \n",
       "3             0.20980            0.86630           0.6869   \n",
       "4             0.13740            0.20500           0.4000   \n",
       "..                ...                ...              ...   \n",
       "564           0.14100            0.21130           0.4107   \n",
       "565           0.11660            0.19220           0.3215   \n",
       "566           0.11390            0.30940           0.3403   \n",
       "567           0.16500            0.86810           0.9387   \n",
       "568           0.08996            0.06444           0.0000   \n",
       "\n",
       "     worst concave points  worst symmetry  worst fractal dimension  target  \n",
       "0                  0.2654          0.4601                  0.11890       0  \n",
       "1                  0.1860          0.2750                  0.08902       0  \n",
       "2                  0.2430          0.3613                  0.08758       0  \n",
       "3                  0.2575          0.6638                  0.17300       0  \n",
       "4                  0.1625          0.2364                  0.07678       0  \n",
       "..                    ...             ...                      ...     ...  \n",
       "564                0.2216          0.2060                  0.07115       0  \n",
       "565                0.1628          0.2572                  0.06637       0  \n",
       "566                0.1418          0.2218                  0.07820       0  \n",
       "567                0.2650          0.4087                  0.12400       0  \n",
       "568                0.0000          0.2871                  0.07039       1  \n",
       "\n",
       "[569 rows x 31 columns]"
      ]
     },
     "execution_count": 134,
     "metadata": {},
     "output_type": "execute_result"
    }
   ],
   "source": [
    "df_bc"
   ]
  },
  {
   "cell_type": "code",
   "execution_count": 135,
   "id": "d1687654",
   "metadata": {},
   "outputs": [
    {
     "name": "stdout",
     "output_type": "stream",
     "text": [
      "Naive Maximum Loss: 0.6603163491952275\n",
      "Potential Minimum Loss: 0.012673744295453426\n",
      "Learning Potential from Features: 0.9808065568709607\n"
     ]
    }
   ],
   "source": [
    "L_0, L, Q = bayesian_loss_estimate_KDE(df=df_bc, class_label='target')\n",
    "print('Naive Maximum Loss:', L_0)\n",
    "print('Potential Minimum Loss:', L)\n",
    "print('Learning Potential from Features:', Q)"
   ]
  },
  {
   "cell_type": "markdown",
   "id": "79be2131",
   "metadata": {},
   "source": [
    "#### NewsGroup Dataset"
   ]
  },
  {
   "cell_type": "code",
   "execution_count": 136,
   "id": "385e5283",
   "metadata": {},
   "outputs": [],
   "source": [
    "from sklearn.datasets import fetch_20newsgroups\n",
    "\n",
    "newsgroups = fetch_20newsgroups(subset='all', remove=('headers', 'footers', 'quotes'))\n",
    "\n",
    "# Preprocess the text data\n",
    "preprocessed_texts = newsgroups.data\n",
    "labels = newsgroups.target"
   ]
  },
  {
   "cell_type": "code",
   "execution_count": 137,
   "id": "992db02c",
   "metadata": {},
   "outputs": [
    {
     "name": "stdout",
     "output_type": "stream",
     "text": [
      "Label: 10\n",
      "Text: \n",
      "\n",
      "I am sure some bashers of Pens fans are pretty confused about the lack\n",
      "of any kind of posts about the recent Pens massacre of the Devils. Actually,\n",
      "I am  bit puzzled too and a bit relieved. However, I am going to put an end\n",
      "to non-PIttsburghers' relief with a bit of praise for the Pens. Man, they\n",
      "are killing those Devils worse than I thought. Jagr just showed you why\n",
      "he is much better than his regular season stats. He is also a lot\n",
      "fo fun to watch in the playoffs. Bowman should let JAgr have a lot of\n",
      "fun in the next couple of games since the Pens are going to beat the pulp out of Jersey anyway. I was very disappointed not to see the Islanders lose the final\n",
      "regular season game.          PENS RULE!!!\n",
      "\n",
      "\n"
     ]
    }
   ],
   "source": [
    "print('Label:', labels[0])\n",
    "print('Text:', preprocessed_texts[0])"
   ]
  },
  {
   "cell_type": "code",
   "execution_count": 138,
   "id": "34caa638",
   "metadata": {},
   "outputs": [],
   "source": [
    "# Create a TF-IDF vectorizer\n",
    "tfidf_vectorizer = TfidfVectorizer(max_features=1000, stop_words='english')\n",
    "\n",
    "# Fit and transform the text data using TF-IDF\n",
    "tfidf_matrix = tfidf_vectorizer.fit_transform(preprocessed_texts)"
   ]
  },
  {
   "cell_type": "code",
   "execution_count": 140,
   "id": "2a18d167",
   "metadata": {},
   "outputs": [
    {
     "name": "stdout",
     "output_type": "stream",
     "text": [
      "Matrix is sparse. Converting to 10-dim dense vector with Truncated SVD. Percentage of variance explained by new representation is 0.05649181318179803\n",
      "Naive Maximum Loss: 2.990257141388216\n",
      "Potential Minimum Loss: 0.9635703468570234\n",
      "Learning Potential from Features: 0.6777633824462035\n"
     ]
    }
   ],
   "source": [
    "L_0, L, Q = bayesian_loss_estimate_KDE(X = tfidf_matrix, y = labels)\n",
    "print('Naive Maximum Loss:', L_0)\n",
    "print('Potential Minimum Loss:', L)\n",
    "print('Learning Potential from Features:', Q)"
   ]
  },
  {
   "cell_type": "markdown",
   "id": "73906da7",
   "metadata": {},
   "source": [
    "#### Digits Dataset"
   ]
  },
  {
   "cell_type": "code",
   "execution_count": 141,
   "id": "7129b0e4",
   "metadata": {},
   "outputs": [],
   "source": [
    "from sklearn.datasets import load_digits\n",
    "\n",
    "digits = load_digits()\n",
    "df_digits = pd.DataFrame(data=digits.data, columns=digits.feature_names)\n",
    "X_digits = sparse.csr_matrix(digits.data)\n",
    "y_digits = digits.target"
   ]
  },
  {
   "cell_type": "code",
   "execution_count": 142,
   "id": "0ada7a68",
   "metadata": {},
   "outputs": [
    {
     "name": "stdout",
     "output_type": "stream",
     "text": [
      "Matrix is sparse. Converting to 10-dim dense vector with Truncated SVD. Percentage of variance explained by new representation is 0.7324265017215523\n",
      "Naive Maximum Loss: 2.302479220967876\n",
      "Potential Minimum Loss: 0.0005422145565305847\n",
      "Learning Potential from Features: 0.9997645083822722\n"
     ]
    }
   ],
   "source": [
    "L_0, L, Q = bayesian_loss_estimate_KDE(X=X_digits, y=y_digits)\n",
    "print('Naive Maximum Loss:', L_0)\n",
    "print('Potential Minimum Loss:', L)\n",
    "print('Learning Potential from Features:', Q)"
   ]
  },
  {
   "cell_type": "markdown",
   "id": "c565588c",
   "metadata": {},
   "source": [
    "### 3. Most Valuable Features\n",
    "\n",
    "Which features or feature combinations have the highest learning potential (i.e., can best help to distinguish classes without overtraining)?\n",
    "\n",
    "> *Answer:* The features or feature combinations that bring ${\\cal Q}$ closest to 1."
   ]
  },
  {
   "cell_type": "markdown",
   "id": "7646368e",
   "metadata": {},
   "source": [
    "#### Addendum: Dealing with multidimensional data\n",
    "\n",
    "We want to extend this formalism to account for when we have multiple feature columns. We've already done this with some of the python data set examples above, but now we want to give a concrete example. "
   ]
  },
  {
   "cell_type": "code",
   "execution_count": 143,
   "id": "bee3cdfd",
   "metadata": {},
   "outputs": [],
   "source": [
    "import numpy as np\n",
    "\n",
    "# Define the mean vector and correlation matrix\n",
    "mu_vec_R = np.array([30, 40])\n",
    "corr_mat_R = np.array([[10.0, 7.5], [7.5, 15.0]])\n",
    "\n",
    "mu_vec_C = np.array([30, 50])\n",
    "corr_mat_C = np.array([[10.0, 0.0], [0.0, 20.0]])\n",
    "\n",
    "# Generate random samples from the multivariate normal distribution\n",
    "N_C, N_R = 600, 1200  # Number of samples to generate\n",
    "samples_C = np.random.multivariate_normal(mu_vec_C, corr_mat_C, size=N_C)\n",
    "samples_R =  np.random.multivariate_normal(mu_vec_R, corr_mat_R, size=N_R)"
   ]
  },
  {
   "cell_type": "code",
   "execution_count": 144,
   "id": "2c6be65a",
   "metadata": {},
   "outputs": [],
   "source": [
    "# defining dataframe\n",
    "samples_full = np.concatenate((samples_C, samples_R), axis=0)\n",
    "classes = ['Churned']*N_C + ['Renewed']*N_R"
   ]
  },
  {
   "cell_type": "code",
   "execution_count": 145,
   "id": "187cfe05",
   "metadata": {},
   "outputs": [],
   "source": [
    "column_names = ['feature1', 'feature2'] # define column names\n",
    "multi_df = pd.DataFrame(samples_full, columns=column_names) # Create a DataFrame from the array\n",
    "multi_df['status'] = classes # addding class label\n",
    "multi_df = multi_df.sample(frac=1).reset_index(drop=True) # shuffling labels"
   ]
  },
  {
   "cell_type": "code",
   "execution_count": 146,
   "id": "31541795",
   "metadata": {},
   "outputs": [
    {
     "data": {
      "text/html": [
       "<div>\n",
       "<style scoped>\n",
       "    .dataframe tbody tr th:only-of-type {\n",
       "        vertical-align: middle;\n",
       "    }\n",
       "\n",
       "    .dataframe tbody tr th {\n",
       "        vertical-align: top;\n",
       "    }\n",
       "\n",
       "    .dataframe thead th {\n",
       "        text-align: right;\n",
       "    }\n",
       "</style>\n",
       "<table border=\"1\" class=\"dataframe\">\n",
       "  <thead>\n",
       "    <tr style=\"text-align: right;\">\n",
       "      <th></th>\n",
       "      <th>feature1</th>\n",
       "      <th>feature2</th>\n",
       "      <th>status</th>\n",
       "    </tr>\n",
       "  </thead>\n",
       "  <tbody>\n",
       "    <tr>\n",
       "      <th>0</th>\n",
       "      <td>29.121566</td>\n",
       "      <td>51.867780</td>\n",
       "      <td>Churned</td>\n",
       "    </tr>\n",
       "    <tr>\n",
       "      <th>1</th>\n",
       "      <td>31.362488</td>\n",
       "      <td>42.895940</td>\n",
       "      <td>Renewed</td>\n",
       "    </tr>\n",
       "    <tr>\n",
       "      <th>2</th>\n",
       "      <td>30.618493</td>\n",
       "      <td>39.389622</td>\n",
       "      <td>Renewed</td>\n",
       "    </tr>\n",
       "    <tr>\n",
       "      <th>3</th>\n",
       "      <td>32.064376</td>\n",
       "      <td>47.866771</td>\n",
       "      <td>Churned</td>\n",
       "    </tr>\n",
       "    <tr>\n",
       "      <th>4</th>\n",
       "      <td>31.745029</td>\n",
       "      <td>46.735967</td>\n",
       "      <td>Churned</td>\n",
       "    </tr>\n",
       "    <tr>\n",
       "      <th>5</th>\n",
       "      <td>26.428866</td>\n",
       "      <td>34.782022</td>\n",
       "      <td>Renewed</td>\n",
       "    </tr>\n",
       "    <tr>\n",
       "      <th>6</th>\n",
       "      <td>31.609372</td>\n",
       "      <td>47.704605</td>\n",
       "      <td>Churned</td>\n",
       "    </tr>\n",
       "  </tbody>\n",
       "</table>\n",
       "</div>"
      ],
      "text/plain": [
       "    feature1   feature2   status\n",
       "0  29.121566  51.867780  Churned\n",
       "1  31.362488  42.895940  Renewed\n",
       "2  30.618493  39.389622  Renewed\n",
       "3  32.064376  47.866771  Churned\n",
       "4  31.745029  46.735967  Churned\n",
       "5  26.428866  34.782022  Renewed\n",
       "6  31.609372  47.704605  Churned"
      ]
     },
     "execution_count": 146,
     "metadata": {},
     "output_type": "execute_result"
    }
   ],
   "source": [
    "# showing dataframe of features\n",
    "multi_df.head(7)"
   ]
  },
  {
   "cell_type": "code",
   "execution_count": 147,
   "id": "b1725bb9",
   "metadata": {},
   "outputs": [
    {
     "data": {
      "image/png": "[encoded data removed]",
      "text/plain": [
       "<Figure size 720x360 with 2 Axes>"
      ]
     },
     "metadata": {
      "needs_background": "light"
     },
     "output_type": "display_data"
    }
   ],
   "source": [
    "import numpy as np\n",
    "import matplotlib.pyplot as plt\n",
    "\n",
    "# Generate example x-y data points for two datasets\n",
    "xC, yC = samples_C.T\n",
    "xR, yR = samples_R.T\n",
    "\n",
    "# Create subplots\n",
    "fig, (ax1, ax2) = plt.subplots(1, 2, figsize=(10, 5))\n",
    "\n",
    "# Plot first two-dimensional histogram\n",
    "hist1 = ax1.hist2d(xC, yC, bins=30, cmap='viridis')\n",
    "ax1.set_xlabel('feature1', fontsize = 12)\n",
    "ax1.set_ylabel('feature2', fontsize = 12)\n",
    "# ax1.set_xlim([20,40])\n",
    "ax1.set_title('Churned Customers', fontsize = 15)\n",
    "ax1.tick_params(axis='both', labelsize=14)\n",
    "# ax1.colorbar(label='Density')\n",
    "\n",
    "# Plot second two-dimensional histogram\n",
    "hist2 = ax2.hist2d(xR, yR, bins=30, cmap='viridis')\n",
    "ax2.set_xlabel('feature1', fontsize = 12)\n",
    "ax2.set_ylabel('feature2', fontsize = 12)\n",
    "ax2.set_xlim([20,40])\n",
    "ax2.set_title('Renewed Customers', fontsize = 15)\n",
    "ax2.tick_params(axis='both', labelsize=14)\n",
    "# ax2.colorbar(label='Density')\n",
    "\n",
    "plt.tight_layout()\n",
    "# plt.savefig('bayesian_loss_two_features.png', bbox_inches = 'tight')\n",
    "plt.show()"
   ]
  },
  {
   "cell_type": "code",
   "execution_count": 148,
   "id": "8d810aea",
   "metadata": {},
   "outputs": [
    {
     "name": "stdout",
     "output_type": "stream",
     "text": [
      "Naive Maximum Loss: 0.6365141682948128\n",
      "Potential Minimum Loss: 0.20124279913696058\n",
      "Learning Potential from Features: 0.6838361042675936\n"
     ]
    }
   ],
   "source": [
    "## \n",
    "# ALL FEATURES\n",
    "##\n",
    "\n",
    "L_0, L, Q = bayesian_loss_estimate_KDE(df=multi_df, class_label='status')\n",
    "print('Naive Maximum Loss:', L_0)\n",
    "print('Potential Minimum Loss:', L)\n",
    "print('Learning Potential from Features:', Q)"
   ]
  },
  {
   "cell_type": "code",
   "execution_count": 149,
   "id": "dfc7c012",
   "metadata": {},
   "outputs": [
    {
     "name": "stdout",
     "output_type": "stream",
     "text": [
      "Naive Maximum Loss: 0.6365141682948128\n",
      "Potential Minimum Loss: 0.6328471114943863\n",
      "Learning Potential from Features: 0.005761155026996959\n"
     ]
    }
   ],
   "source": [
    "## \n",
    "# FIRST FEATURE\n",
    "##\n",
    "L_0, L, Q = bayesian_loss_estimate_KDE(df=multi_df[['feature1', 'status']], class_label='status')\n",
    "print('Naive Maximum Loss:', L_0)\n",
    "print('Potential Minimum Loss:', L)\n",
    "print('Learning Potential from Features:', Q)"
   ]
  },
  {
   "cell_type": "code",
   "execution_count": 150,
   "id": "907d7e72",
   "metadata": {
    "scrolled": true
   },
   "outputs": [
    {
     "name": "stdout",
     "output_type": "stream",
     "text": [
      "Naive Maximum Loss: 0.6365141682948128\n",
      "Potential Minimum Loss: 0.23831873430091527\n",
      "Learning Potential from Features: 0.6255876991091049\n"
     ]
    }
   ],
   "source": [
    "## \n",
    "# SECOND FEATURE \n",
    "##\n",
    "L_0, L, Q = bayesian_loss_estimate_KDE(df=multi_df[['feature2', 'status']], class_label='status')\n",
    "print('Naive Maximum Loss:', L_0)\n",
    "print('Potential Minimum Loss:', L)\n",
    "print('Learning Potential from Features:', Q)"
   ]
  },
  {
   "cell_type": "code",
   "execution_count": 151,
   "id": "1304c89e",
   "metadata": {},
   "outputs": [
    {
     "data": {
      "text/html": [
       "<div>\n",
       "<style scoped>\n",
       "    .dataframe tbody tr th:only-of-type {\n",
       "        vertical-align: middle;\n",
       "    }\n",
       "\n",
       "    .dataframe tbody tr th {\n",
       "        vertical-align: top;\n",
       "    }\n",
       "\n",
       "    .dataframe thead th {\n",
       "        text-align: right;\n",
       "    }\n",
       "</style>\n",
       "<table border=\"1\" class=\"dataframe\">\n",
       "  <thead>\n",
       "    <tr style=\"text-align: right;\">\n",
       "      <th></th>\n",
       "      <th>Learning potential</th>\n",
       "    </tr>\n",
       "  </thead>\n",
       "  <tbody>\n",
       "    <tr>\n",
       "      <th>feature1</th>\n",
       "      <td>0.002900</td>\n",
       "    </tr>\n",
       "    <tr>\n",
       "      <th>feature2</th>\n",
       "      <td>0.619310</td>\n",
       "    </tr>\n",
       "    <tr>\n",
       "      <th>feature1 &amp; feature2</th>\n",
       "      <td>0.683344</td>\n",
       "    </tr>\n",
       "  </tbody>\n",
       "</table>\n",
       "</div>"
      ],
      "text/plain": [
       "                     Learning potential\n",
       "feature1                       0.002900\n",
       "feature2                       0.619310\n",
       "feature1 & feature2            0.683344"
      ]
     },
     "execution_count": 151,
     "metadata": {},
     "output_type": "execute_result"
    }
   ],
   "source": [
    "data = {\n",
    "    \"Learning potential\": [0.002899817863335521, 0.6193098935075712, 0.6833437666645646]\n",
    "}\n",
    "\n",
    "index = [\"feature1\", \"feature2\", \"feature1 & feature2\"]\n",
    "\n",
    "# Create the DataFrame\n",
    "df = pd.DataFrame(data, index=index)\n",
    "\n",
    "df"
   ]
  },
  {
   "cell_type": "markdown",
   "id": "2b40dc6b",
   "metadata": {},
   "source": [
    "First feature has more learning potential than second feature so it can better distinguish the two classes. However the two features together do better than each one of them alone. "
   ]
  },
  {
   "cell_type": "markdown",
   "id": "cd027ae1",
   "metadata": {},
   "source": [
    "#### Summary\n",
    "\n",
    "**Main Results**\n",
    "\\begin{equation}\n",
    "{\\cal L} = -\\sum_{\\alpha=1}^C \\hat{p}(\\alpha)\\ln \\hat{p}(\\alpha) - \\frac{1}{N} \\sum_{\\alpha=1}^C \\sum_{i=1}^N y_{i, \\alpha} \\ln \\left[\\frac{\\hat{\\rho}_{\\text{KDE}}(\\textbf{x}_i|\\alpha)}{\\sum_{\\alpha'=1}^C\\hat{\\rho}_{\\text{KDE}}(\\textbf{x}_i|\\alpha') \\hat{p}(\\alpha') }\\right]\\qquad \\text{[Bayesian Estimate of Loss]}\n",
    "\\end{equation} \n",
    "\n",
    "\\begin{equation}\n",
    "{\\cal Q} \\equiv \\frac{{\\cal L}_0-{\\cal L}}{{\\cal L}_0}; \\quad {\\cal L}_0 = -\\sum_{\\alpha=1}^C \\hat{p}(\\alpha)\\ln \\hat{p}(\\alpha)\\qquad \\text{[Learning Quotient]}\n",
    "\\end{equation}\n",
    "\n",
    "We found three applications of these results\n",
    "- **Minimum Loss:** \n",
    "    - Computing the Bayesian expected loss and the loss of a trained model can provide a signal for when a model has been overtrained.\n",
    "\n",
    "\n",
    "- **Learning Quotient and Trainability:** \n",
    "    - Learning quotient can tell us how much a model can learn from a feature data set. \n",
    "    \n",
    "    \n",
    "- **Feature Importance:** \n",
    "    - Comparing learning quotients can tell us which combinations of features are most important"
   ]
  },
  {
   "cell_type": "markdown",
   "id": "be12f9b3",
   "metadata": {},
   "source": [
    "---------\n",
    "\n",
    "----------\n",
    "\n",
    "\n",
    "----------"
   ]
  }
 ],
 "metadata": {
  "kernelspec": {
   "display_name": "Python 3 (ipykernel)",
   "language": "python",
   "name": "python3"
  },
  "language_info": {
   "codemirror_mode": {
    "name": "ipython",
    "version": 3
   },
   "file_extension": ".py",
   "mimetype": "text/x-python",
   "name": "python",
   "nbconvert_exporter": "python",
   "pygments_lexer": "ipython3",
   "version": "3.10.2"
  }
 },
 "nbformat": 4,
 "nbformat_minor": 5
}
